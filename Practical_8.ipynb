{
  "nbformat": 4,
  "nbformat_minor": 0,
  "metadata": {
    "colab": {
      "name": "Practical_8.ipynb",
      "provenance": [],
      "collapsed_sections": [],
      "authorship_tag": "ABX9TyPRJbjKNMZPIXdqLVlncB33"
    },
    "kernelspec": {
      "name": "python3",
      "display_name": "Python 3"
    },
    "language_info": {
      "name": "python"
    }
  },
  "cells": [
    {
      "cell_type": "markdown",
      "metadata": {
        "id": "fCzWVyJV5z9z"
      },
      "source": [
        "#**Practical-8: Descriptive Statistics**\n",
        "**Name: Preeti Sahani**"
      ]
    },
    {
      "cell_type": "code",
      "metadata": {
        "colab": {
          "base_uri": "https://localhost:8080/",
          "height": 356
        },
        "id": "_2zoHUsqqGgx",
        "outputId": "973c1c77-9121-4d28-92d1-38ae96ca924f"
      },
      "source": [
        "import pandas as pd\n",
        "\n",
        "df=pd.read_csv('/content/stats.csv')\n",
        "df"
      ],
      "execution_count": null,
      "outputs": [
        {
          "output_type": "execute_result",
          "data": {
            "text/html": [
              "<div>\n",
              "<style scoped>\n",
              "    .dataframe tbody tr th:only-of-type {\n",
              "        vertical-align: middle;\n",
              "    }\n",
              "\n",
              "    .dataframe tbody tr th {\n",
              "        vertical-align: top;\n",
              "    }\n",
              "\n",
              "    .dataframe thead th {\n",
              "        text-align: right;\n",
              "    }\n",
              "</style>\n",
              "<table border=\"1\" class=\"dataframe\">\n",
              "  <thead>\n",
              "    <tr style=\"text-align: right;\">\n",
              "      <th></th>\n",
              "      <th>Name</th>\n",
              "      <th>Salary</th>\n",
              "      <th>Country</th>\n",
              "    </tr>\n",
              "  </thead>\n",
              "  <tbody>\n",
              "    <tr>\n",
              "      <th>0</th>\n",
              "      <td>Dan</td>\n",
              "      <td>40000</td>\n",
              "      <td>USA</td>\n",
              "    </tr>\n",
              "    <tr>\n",
              "      <th>1</th>\n",
              "      <td>Elizabeth</td>\n",
              "      <td>32000</td>\n",
              "      <td>Brazil</td>\n",
              "    </tr>\n",
              "    <tr>\n",
              "      <th>2</th>\n",
              "      <td>Jon</td>\n",
              "      <td>45000</td>\n",
              "      <td>Italy</td>\n",
              "    </tr>\n",
              "    <tr>\n",
              "      <th>3</th>\n",
              "      <td>Maria</td>\n",
              "      <td>54000</td>\n",
              "      <td>USA</td>\n",
              "    </tr>\n",
              "    <tr>\n",
              "      <th>4</th>\n",
              "      <td>Mark</td>\n",
              "      <td>72000</td>\n",
              "      <td>USA</td>\n",
              "    </tr>\n",
              "    <tr>\n",
              "      <th>5</th>\n",
              "      <td>Bill</td>\n",
              "      <td>62000</td>\n",
              "      <td>Brazil</td>\n",
              "    </tr>\n",
              "    <tr>\n",
              "      <th>6</th>\n",
              "      <td>Jess</td>\n",
              "      <td>92000</td>\n",
              "      <td>Italy</td>\n",
              "    </tr>\n",
              "    <tr>\n",
              "      <th>7</th>\n",
              "      <td>Julia</td>\n",
              "      <td>55000</td>\n",
              "      <td>USA</td>\n",
              "    </tr>\n",
              "    <tr>\n",
              "      <th>8</th>\n",
              "      <td>Jeff</td>\n",
              "      <td>35000</td>\n",
              "      <td>Italy</td>\n",
              "    </tr>\n",
              "    <tr>\n",
              "      <th>9</th>\n",
              "      <td>Ben</td>\n",
              "      <td>48000</td>\n",
              "      <td>Brazil</td>\n",
              "    </tr>\n",
              "  </tbody>\n",
              "</table>\n",
              "</div>"
            ],
            "text/plain": [
              "        Name  Salary Country\n",
              "0        Dan   40000     USA\n",
              "1  Elizabeth   32000  Brazil\n",
              "2        Jon   45000   Italy\n",
              "3      Maria   54000     USA\n",
              "4       Mark   72000     USA\n",
              "5       Bill   62000  Brazil\n",
              "6       Jess   92000   Italy\n",
              "7      Julia   55000     USA\n",
              "8       Jeff   35000   Italy\n",
              "9        Ben   48000  Brazil"
            ]
          },
          "metadata": {},
          "execution_count": 19
        }
      ]
    },
    {
      "cell_type": "markdown",
      "metadata": {
        "id": "JncBWXv-4Ohj"
      },
      "source": [
        "#**Measure of Central Tendency**"
      ]
    },
    {
      "cell_type": "code",
      "metadata": {
        "colab": {
          "base_uri": "https://localhost:8080/"
        },
        "id": "ZuUTBWgh3jC_",
        "outputId": "d7084528-896a-41c1-ed98-85190e0d053c"
      },
      "source": [
        "# Mean Salary\n",
        "mean1=df['Salary'].mean()\n",
        "mean1"
      ],
      "execution_count": null,
      "outputs": [
        {
          "output_type": "execute_result",
          "data": {
            "text/plain": [
              "53500.0"
            ]
          },
          "metadata": {},
          "execution_count": 20
        }
      ]
    },
    {
      "cell_type": "code",
      "metadata": {
        "colab": {
          "base_uri": "https://localhost:8080/"
        },
        "id": "Gs3vMkDB3i_Y",
        "outputId": "c7678536-2b89-4f41-c63a-bd860f5f18f8"
      },
      "source": [
        "# Sum of Salaries\n",
        "sum1=df['Salary'].sum()\n",
        "sum1"
      ],
      "execution_count": null,
      "outputs": [
        {
          "output_type": "execute_result",
          "data": {
            "text/plain": [
              "535000"
            ]
          },
          "metadata": {},
          "execution_count": 21
        }
      ]
    },
    {
      "cell_type": "code",
      "metadata": {
        "colab": {
          "base_uri": "https://localhost:8080/"
        },
        "id": "k54v0BA13i9q",
        "outputId": "fa551123-f69d-4ef2-9df7-939d71a1644c"
      },
      "source": [
        "# Maximum Salary\n",
        "max1=df['Salary'].max()\n",
        "max1"
      ],
      "execution_count": null,
      "outputs": [
        {
          "output_type": "execute_result",
          "data": {
            "text/plain": [
              "92000"
            ]
          },
          "metadata": {},
          "execution_count": 22
        }
      ]
    },
    {
      "cell_type": "code",
      "metadata": {
        "colab": {
          "base_uri": "https://localhost:8080/"
        },
        "id": "-sc5TZuq3i54",
        "outputId": "010eda6c-e51c-4387-851b-aea5b9daed3b"
      },
      "source": [
        "# Minimum Salary\n",
        "min1=df['Salary'].min()\n",
        "min1"
      ],
      "execution_count": null,
      "outputs": [
        {
          "output_type": "execute_result",
          "data": {
            "text/plain": [
              "32000"
            ]
          },
          "metadata": {},
          "execution_count": 23
        }
      ]
    },
    {
      "cell_type": "code",
      "metadata": {
        "colab": {
          "base_uri": "https://localhost:8080/"
        },
        "id": "iK4LihIn3i4O",
        "outputId": "600fe836-fd7e-4e69-fd61-9d012af8668a"
      },
      "source": [
        "# Total Count\n",
        "count1=df['Salary'].count()\n",
        "count1"
      ],
      "execution_count": null,
      "outputs": [
        {
          "output_type": "execute_result",
          "data": {
            "text/plain": [
              "10"
            ]
          },
          "metadata": {},
          "execution_count": 24
        }
      ]
    },
    {
      "cell_type": "code",
      "metadata": {
        "colab": {
          "base_uri": "https://localhost:8080/"
        },
        "id": "bv1CrMro4coI",
        "outputId": "a0cc2cab-ef50-45ea-ca48-d888abd71769"
      },
      "source": [
        "# Median\n",
        "median=df['Salary'].median()\n",
        "median"
      ],
      "execution_count": null,
      "outputs": [
        {
          "output_type": "execute_result",
          "data": {
            "text/plain": [
              "51000.0"
            ]
          },
          "metadata": {},
          "execution_count": 25
        }
      ]
    },
    {
      "cell_type": "code",
      "metadata": {
        "colab": {
          "base_uri": "https://localhost:8080/"
        },
        "id": "94SFp_f24cm0",
        "outputId": "206874b7-6eff-4469-e5b1-0de4fad0b365"
      },
      "source": [
        "# Mode\n",
        "mode1=df['Salary'].mode()\n",
        "mode1"
      ],
      "execution_count": null,
      "outputs": [
        {
          "output_type": "execute_result",
          "data": {
            "text/plain": [
              "0    32000\n",
              "1    35000\n",
              "2    40000\n",
              "3    45000\n",
              "4    48000\n",
              "5    54000\n",
              "6    55000\n",
              "7    62000\n",
              "8    72000\n",
              "9    92000\n",
              "dtype: int64"
            ]
          },
          "metadata": {},
          "execution_count": 26
        }
      ]
    },
    {
      "cell_type": "code",
      "metadata": {
        "colab": {
          "base_uri": "https://localhost:8080/",
          "height": 172
        },
        "id": "PWWheUUM4ci4",
        "outputId": "507c9a24-89b6-4ecb-ec97-c058007aa07b"
      },
      "source": [
        "countrywise_sum=df.groupby(['Country']).sum()\n",
        "countrywise_sum"
      ],
      "execution_count": null,
      "outputs": [
        {
          "output_type": "execute_result",
          "data": {
            "text/html": [
              "<div>\n",
              "<style scoped>\n",
              "    .dataframe tbody tr th:only-of-type {\n",
              "        vertical-align: middle;\n",
              "    }\n",
              "\n",
              "    .dataframe tbody tr th {\n",
              "        vertical-align: top;\n",
              "    }\n",
              "\n",
              "    .dataframe thead th {\n",
              "        text-align: right;\n",
              "    }\n",
              "</style>\n",
              "<table border=\"1\" class=\"dataframe\">\n",
              "  <thead>\n",
              "    <tr style=\"text-align: right;\">\n",
              "      <th></th>\n",
              "      <th>Salary</th>\n",
              "    </tr>\n",
              "    <tr>\n",
              "      <th>Country</th>\n",
              "      <th></th>\n",
              "    </tr>\n",
              "  </thead>\n",
              "  <tbody>\n",
              "    <tr>\n",
              "      <th>Brazil</th>\n",
              "      <td>142000</td>\n",
              "    </tr>\n",
              "    <tr>\n",
              "      <th>Italy</th>\n",
              "      <td>172000</td>\n",
              "    </tr>\n",
              "    <tr>\n",
              "      <th>USA</th>\n",
              "      <td>221000</td>\n",
              "    </tr>\n",
              "  </tbody>\n",
              "</table>\n",
              "</div>"
            ],
            "text/plain": [
              "         Salary\n",
              "Country        \n",
              "Brazil   142000\n",
              "Italy    172000\n",
              "USA      221000"
            ]
          },
          "metadata": {},
          "execution_count": 27
        }
      ]
    },
    {
      "cell_type": "code",
      "metadata": {
        "colab": {
          "base_uri": "https://localhost:8080/",
          "height": 172
        },
        "id": "xVQuJYcs4chj",
        "outputId": "a8c7e10f-4be8-42bb-b4b8-01da7cad12d0"
      },
      "source": [
        "countrywise_count=df.groupby(['Country']).count()\n",
        "countrywise_count"
      ],
      "execution_count": null,
      "outputs": [
        {
          "output_type": "execute_result",
          "data": {
            "text/html": [
              "<div>\n",
              "<style scoped>\n",
              "    .dataframe tbody tr th:only-of-type {\n",
              "        vertical-align: middle;\n",
              "    }\n",
              "\n",
              "    .dataframe tbody tr th {\n",
              "        vertical-align: top;\n",
              "    }\n",
              "\n",
              "    .dataframe thead th {\n",
              "        text-align: right;\n",
              "    }\n",
              "</style>\n",
              "<table border=\"1\" class=\"dataframe\">\n",
              "  <thead>\n",
              "    <tr style=\"text-align: right;\">\n",
              "      <th></th>\n",
              "      <th>Name</th>\n",
              "      <th>Salary</th>\n",
              "    </tr>\n",
              "    <tr>\n",
              "      <th>Country</th>\n",
              "      <th></th>\n",
              "      <th></th>\n",
              "    </tr>\n",
              "  </thead>\n",
              "  <tbody>\n",
              "    <tr>\n",
              "      <th>Brazil</th>\n",
              "      <td>3</td>\n",
              "      <td>3</td>\n",
              "    </tr>\n",
              "    <tr>\n",
              "      <th>Italy</th>\n",
              "      <td>3</td>\n",
              "      <td>3</td>\n",
              "    </tr>\n",
              "    <tr>\n",
              "      <th>USA</th>\n",
              "      <td>4</td>\n",
              "      <td>4</td>\n",
              "    </tr>\n",
              "  </tbody>\n",
              "</table>\n",
              "</div>"
            ],
            "text/plain": [
              "         Name  Salary\n",
              "Country              \n",
              "Brazil      3       3\n",
              "Italy       3       3\n",
              "USA         4       4"
            ]
          },
          "metadata": {},
          "execution_count": 28
        }
      ]
    },
    {
      "cell_type": "markdown",
      "metadata": {
        "id": "6loDV4V24qmu"
      },
      "source": [
        "#**Measure of Variability**"
      ]
    },
    {
      "cell_type": "code",
      "metadata": {
        "colab": {
          "base_uri": "https://localhost:8080/"
        },
        "id": "SzgBIPAK4jo_",
        "outputId": "2efc57de-a7b6-417d-9185-038facb703a6"
      },
      "source": [
        "# Variance of salaries\n",
        "var1=df['Salary'].var()\n",
        "var1"
      ],
      "execution_count": null,
      "outputs": [
        {
          "output_type": "execute_result",
          "data": {
            "text/plain": [
              "332055555.5555556"
            ]
          },
          "metadata": {},
          "execution_count": 29
        }
      ]
    },
    {
      "cell_type": "code",
      "metadata": {
        "colab": {
          "base_uri": "https://localhost:8080/"
        },
        "id": "bh-0swxA4jnh",
        "outputId": "ec482183-6b59-4fc0-9d41-525bd70594f1"
      },
      "source": [
        "# Standard deviation\n",
        "std1=df['Salary'].std()\n",
        "std1"
      ],
      "execution_count": null,
      "outputs": [
        {
          "output_type": "execute_result",
          "data": {
            "text/plain": [
              "18222.391598128816"
            ]
          },
          "metadata": {},
          "execution_count": 30
        }
      ]
    },
    {
      "cell_type": "markdown",
      "metadata": {
        "id": "cHdbB_yu4ydG"
      },
      "source": [
        "#**Measure of Symmetry**"
      ]
    },
    {
      "cell_type": "code",
      "metadata": {
        "colab": {
          "base_uri": "https://localhost:8080/"
        },
        "id": "duNNBOEB4jjo",
        "outputId": "2ba57d97-b063-4bc6-8dd1-b70c379a2bb1"
      },
      "source": [
        "skew1=df.skew(axis=0, skipna=True)\n",
        "skew1"
      ],
      "execution_count": null,
      "outputs": [
        {
          "output_type": "execute_result",
          "data": {
            "text/plain": [
              "Salary    1.021551\n",
              "dtype: float64"
            ]
          },
          "metadata": {},
          "execution_count": 31
        }
      ]
    },
    {
      "cell_type": "markdown",
      "metadata": {
        "id": "UZIBFCp047OR"
      },
      "source": [
        "**The Skewness is positive so x will have right side tail.**"
      ]
    },
    {
      "cell_type": "markdown",
      "metadata": {
        "id": "nrIs4Fkw5AnJ"
      },
      "source": [
        "#**Covariance and Correlation**"
      ]
    },
    {
      "cell_type": "code",
      "metadata": {
        "colab": {
          "base_uri": "https://localhost:8080/",
          "height": 202
        },
        "id": "oEHN6gRu4jh7",
        "outputId": "a4d6d33b-7d82-4963-9db9-88230e7498d4"
      },
      "source": [
        "import pandas as pd\n",
        "bw=pd.read_csv('/content/BirthWeight.csv')\n",
        "bw.head()"
      ],
      "execution_count": null,
      "outputs": [
        {
          "output_type": "execute_result",
          "data": {
            "text/html": [
              "<div>\n",
              "<style scoped>\n",
              "    .dataframe tbody tr th:only-of-type {\n",
              "        vertical-align: middle;\n",
              "    }\n",
              "\n",
              "    .dataframe tbody tr th {\n",
              "        vertical-align: top;\n",
              "    }\n",
              "\n",
              "    .dataframe thead th {\n",
              "        text-align: right;\n",
              "    }\n",
              "</style>\n",
              "<table border=\"1\" class=\"dataframe\">\n",
              "  <thead>\n",
              "    <tr style=\"text-align: right;\">\n",
              "      <th></th>\n",
              "      <th>Infant ID</th>\n",
              "      <th>Gestational Age (Weeks)</th>\n",
              "      <th>Birth Weight (Grams)</th>\n",
              "    </tr>\n",
              "  </thead>\n",
              "  <tbody>\n",
              "    <tr>\n",
              "      <th>0</th>\n",
              "      <td>1</td>\n",
              "      <td>34.7</td>\n",
              "      <td>1895</td>\n",
              "    </tr>\n",
              "    <tr>\n",
              "      <th>1</th>\n",
              "      <td>2</td>\n",
              "      <td>36.0</td>\n",
              "      <td>2030</td>\n",
              "    </tr>\n",
              "    <tr>\n",
              "      <th>2</th>\n",
              "      <td>3</td>\n",
              "      <td>29.3</td>\n",
              "      <td>1440</td>\n",
              "    </tr>\n",
              "    <tr>\n",
              "      <th>3</th>\n",
              "      <td>4</td>\n",
              "      <td>40.1</td>\n",
              "      <td>2835</td>\n",
              "    </tr>\n",
              "    <tr>\n",
              "      <th>4</th>\n",
              "      <td>5</td>\n",
              "      <td>35.7</td>\n",
              "      <td>3090</td>\n",
              "    </tr>\n",
              "  </tbody>\n",
              "</table>\n",
              "</div>"
            ],
            "text/plain": [
              "   Infant ID  Gestational Age (Weeks)  Birth Weight (Grams)\n",
              "0          1                     34.7                  1895\n",
              "1          2                     36.0                  2030\n",
              "2          3                     29.3                  1440\n",
              "3          4                     40.1                  2835\n",
              "4          5                     35.7                  3090"
            ]
          },
          "metadata": {},
          "execution_count": 32
        }
      ]
    },
    {
      "cell_type": "code",
      "metadata": {
        "colab": {
          "base_uri": "https://localhost:8080/",
          "height": 233
        },
        "id": "JJ0elUvP48uk",
        "outputId": "7f18ce6b-093d-4c87-ef59-efef88bbaf4c"
      },
      "source": [
        "bw.set_index('Infant ID', inplace=True)\n",
        "bw.head()"
      ],
      "execution_count": null,
      "outputs": [
        {
          "output_type": "execute_result",
          "data": {
            "text/html": [
              "<div>\n",
              "<style scoped>\n",
              "    .dataframe tbody tr th:only-of-type {\n",
              "        vertical-align: middle;\n",
              "    }\n",
              "\n",
              "    .dataframe tbody tr th {\n",
              "        vertical-align: top;\n",
              "    }\n",
              "\n",
              "    .dataframe thead th {\n",
              "        text-align: right;\n",
              "    }\n",
              "</style>\n",
              "<table border=\"1\" class=\"dataframe\">\n",
              "  <thead>\n",
              "    <tr style=\"text-align: right;\">\n",
              "      <th></th>\n",
              "      <th>Gestational Age (Weeks)</th>\n",
              "      <th>Birth Weight (Grams)</th>\n",
              "    </tr>\n",
              "    <tr>\n",
              "      <th>Infant ID</th>\n",
              "      <th></th>\n",
              "      <th></th>\n",
              "    </tr>\n",
              "  </thead>\n",
              "  <tbody>\n",
              "    <tr>\n",
              "      <th>1</th>\n",
              "      <td>34.7</td>\n",
              "      <td>1895</td>\n",
              "    </tr>\n",
              "    <tr>\n",
              "      <th>2</th>\n",
              "      <td>36.0</td>\n",
              "      <td>2030</td>\n",
              "    </tr>\n",
              "    <tr>\n",
              "      <th>3</th>\n",
              "      <td>29.3</td>\n",
              "      <td>1440</td>\n",
              "    </tr>\n",
              "    <tr>\n",
              "      <th>4</th>\n",
              "      <td>40.1</td>\n",
              "      <td>2835</td>\n",
              "    </tr>\n",
              "    <tr>\n",
              "      <th>5</th>\n",
              "      <td>35.7</td>\n",
              "      <td>3090</td>\n",
              "    </tr>\n",
              "  </tbody>\n",
              "</table>\n",
              "</div>"
            ],
            "text/plain": [
              "           Gestational Age (Weeks)  Birth Weight (Grams)\n",
              "Infant ID                                               \n",
              "1                             34.7                  1895\n",
              "2                             36.0                  2030\n",
              "3                             29.3                  1440\n",
              "4                             40.1                  2835\n",
              "5                             35.7                  3090"
            ]
          },
          "metadata": {},
          "execution_count": 33
        }
      ]
    },
    {
      "cell_type": "code",
      "metadata": {
        "colab": {
          "base_uri": "https://localhost:8080/"
        },
        "id": "oU1Azetj49f1",
        "outputId": "0fa25b65-866d-4e72-a0d7-4cf0074c95b1"
      },
      "source": [
        "print(bw.cov())\n",
        "\n",
        "print(bw.corr(method=\"pearson\"))"
      ],
      "execution_count": null,
      "outputs": [
        {
          "output_type": "stream",
          "name": "stdout",
          "text": [
            "                         Gestational Age (Weeks)  Birth Weight (Grams)\n",
            "Gestational Age (Weeks)                 9.963824              1798.025\n",
            "Birth Weight (Grams)                 1798.025000            485478.750\n",
            "                         Gestational Age (Weeks)  Birth Weight (Grams)\n",
            "Gestational Age (Weeks)                 1.000000              0.817519\n",
            "Birth Weight (Grams)                    0.817519              1.000000\n"
          ]
        }
      ]
    },
    {
      "cell_type": "markdown",
      "metadata": {
        "id": "oUyEDVzG5Uyv"
      },
      "source": [
        "**Covariance indicates that there is correlation exists between two Correlation coefficient of 0.818 indicates the relation between two variable is strong.**"
      ]
    },
    {
      "cell_type": "code",
      "metadata": {
        "id": "02zspfyuEi2f"
      },
      "source": [
        "#importing required libraries\n",
        "\n",
        "import pandas as pd\n",
        "import numpy as np\n",
        "import matplotlib.pyplot as plt\n",
        "import seaborn as sns\n",
        "from scipy.stats import skew\n",
        "from scipy.stats import kurtosis"
      ],
      "execution_count": 1,
      "outputs": []
    },
    {
      "cell_type": "code",
      "metadata": {
        "id": "bIf544v2Ej7t"
      },
      "source": [
        "pd.set_option(\"display.max_columns\",None)\n",
        "pd.options.display.float_format = \"{:,.2f}\".format"
      ],
      "execution_count": null,
      "outputs": []
    },
    {
      "cell_type": "markdown",
      "metadata": {
        "id": "tm0WkPSbEp2R"
      },
      "source": [
        "**Format : A data frame with 53940 rows and 10 variables**\n",
        "\n",
        "**Description : A dataset containing the prices and other attributes of almost 54,000 diamonds.**\n",
        "\n",
        "**The variables are as follows:**\n",
        "\n",
        "price: price in US dollars ($326--$18,823)\n",
        "\n",
        "carat: weight of the diamond (0.2--5.01)\n",
        "\n",
        "cut: quality of the cut (Fair, Good, Very Good, Premium, Ideal)\n",
        "\n",
        "colour: diamond colour, from J (worst) to D (best)\n",
        "\n",
        "clarity: a measurement of how clear the diamond is (IF (best), VVS1, VVS2, VS1, VS2, SI1, SI2, I1 (worst) )\n",
        "\n",
        "popularity: popularity of this specs (Good, Fair, Poor)\n",
        "\n",
        "x: length in mm (0--10.74)\n",
        "\n",
        "y: width in mm (0--58.9)\n",
        "\n",
        "z: depth in mm (0--31.8)\n",
        "\n",
        "depth: total depth percentage = z / mean(x,y) = 2 * z /(x+y) (43--79) \n",
        "\n",
        "table: width of top of diamondrelative to widest point (43--95)"
      ]
    },
    {
      "cell_type": "code",
      "metadata": {
        "colab": {
          "base_uri": "https://localhost:8080/",
          "height": 206
        },
        "id": "hJUmxO3hE7gI",
        "outputId": "d4c80029-8c34-43a2-9bdb-f88042a8f94c"
      },
      "source": [
        "# reading data from csv file\n",
        "xls = pd.read_csv(\"/content/diamonds.csv\")\n",
        "xls.head()"
      ],
      "execution_count": 3,
      "outputs": [
        {
          "output_type": "execute_result",
          "data": {
            "text/html": [
              "<div>\n",
              "<style scoped>\n",
              "    .dataframe tbody tr th:only-of-type {\n",
              "        vertical-align: middle;\n",
              "    }\n",
              "\n",
              "    .dataframe tbody tr th {\n",
              "        vertical-align: top;\n",
              "    }\n",
              "\n",
              "    .dataframe thead th {\n",
              "        text-align: right;\n",
              "    }\n",
              "</style>\n",
              "<table border=\"1\" class=\"dataframe\">\n",
              "  <thead>\n",
              "    <tr style=\"text-align: right;\">\n",
              "      <th></th>\n",
              "      <th>id</th>\n",
              "      <th>carat</th>\n",
              "      <th>cut</th>\n",
              "      <th>color</th>\n",
              "      <th>clarity</th>\n",
              "      <th>depth</th>\n",
              "      <th>table</th>\n",
              "      <th>price</th>\n",
              "      <th>x</th>\n",
              "      <th>y</th>\n",
              "      <th>z</th>\n",
              "    </tr>\n",
              "  </thead>\n",
              "  <tbody>\n",
              "    <tr>\n",
              "      <th>0</th>\n",
              "      <td>1</td>\n",
              "      <td>0.23</td>\n",
              "      <td>Ideal</td>\n",
              "      <td>E</td>\n",
              "      <td>SI2</td>\n",
              "      <td>61.5</td>\n",
              "      <td>55.0</td>\n",
              "      <td>326</td>\n",
              "      <td>3.95</td>\n",
              "      <td>3.98</td>\n",
              "      <td>2.43</td>\n",
              "    </tr>\n",
              "    <tr>\n",
              "      <th>1</th>\n",
              "      <td>2</td>\n",
              "      <td>0.21</td>\n",
              "      <td>Premium</td>\n",
              "      <td>E</td>\n",
              "      <td>SI1</td>\n",
              "      <td>59.8</td>\n",
              "      <td>61.0</td>\n",
              "      <td>326</td>\n",
              "      <td>3.89</td>\n",
              "      <td>3.84</td>\n",
              "      <td>2.31</td>\n",
              "    </tr>\n",
              "    <tr>\n",
              "      <th>2</th>\n",
              "      <td>3</td>\n",
              "      <td>0.23</td>\n",
              "      <td>Good</td>\n",
              "      <td>E</td>\n",
              "      <td>VS1</td>\n",
              "      <td>56.9</td>\n",
              "      <td>65.0</td>\n",
              "      <td>327</td>\n",
              "      <td>4.05</td>\n",
              "      <td>4.07</td>\n",
              "      <td>2.31</td>\n",
              "    </tr>\n",
              "    <tr>\n",
              "      <th>3</th>\n",
              "      <td>4</td>\n",
              "      <td>0.29</td>\n",
              "      <td>Premium</td>\n",
              "      <td>I</td>\n",
              "      <td>VS2</td>\n",
              "      <td>62.4</td>\n",
              "      <td>58.0</td>\n",
              "      <td>334</td>\n",
              "      <td>4.20</td>\n",
              "      <td>4.23</td>\n",
              "      <td>2.63</td>\n",
              "    </tr>\n",
              "    <tr>\n",
              "      <th>4</th>\n",
              "      <td>5</td>\n",
              "      <td>0.31</td>\n",
              "      <td>Good</td>\n",
              "      <td>J</td>\n",
              "      <td>SI2</td>\n",
              "      <td>63.3</td>\n",
              "      <td>58.0</td>\n",
              "      <td>335</td>\n",
              "      <td>4.34</td>\n",
              "      <td>4.35</td>\n",
              "      <td>2.75</td>\n",
              "    </tr>\n",
              "  </tbody>\n",
              "</table>\n",
              "</div>"
            ],
            "text/plain": [
              "   id  carat      cut color clarity  depth  table  price     x     y     z\n",
              "0   1   0.23    Ideal     E     SI2   61.5   55.0    326  3.95  3.98  2.43\n",
              "1   2   0.21  Premium     E     SI1   59.8   61.0    326  3.89  3.84  2.31\n",
              "2   3   0.23     Good     E     VS1   56.9   65.0    327  4.05  4.07  2.31\n",
              "3   4   0.29  Premium     I     VS2   62.4   58.0    334  4.20  4.23  2.63\n",
              "4   5   0.31     Good     J     SI2   63.3   58.0    335  4.34  4.35  2.75"
            ]
          },
          "metadata": {},
          "execution_count": 3
        }
      ]
    },
    {
      "cell_type": "code",
      "metadata": {
        "colab": {
          "base_uri": "https://localhost:8080/",
          "height": 300
        },
        "id": "GZrPbmsGFvM5",
        "outputId": "ef2d3b96-cc84-49f7-c9e6-90507e20a3c3"
      },
      "source": [
        "des_df = xls.drop(['id'],axis= 1) #drop id colums\n",
        "for col in des_df:            #drop all alpha-numeric colms\n",
        "    if des_df[col].dtype =='object':\n",
        "        des_df = des_df.drop([col],axis = 1)\n",
        "        \n",
        "des_r = des_df.describe()\n",
        "des_df = des_r.rename(index={'50%':'median/50%'})\n",
        "des_r"
      ],
      "execution_count": 4,
      "outputs": [
        {
          "output_type": "execute_result",
          "data": {
            "text/html": [
              "<div>\n",
              "<style scoped>\n",
              "    .dataframe tbody tr th:only-of-type {\n",
              "        vertical-align: middle;\n",
              "    }\n",
              "\n",
              "    .dataframe tbody tr th {\n",
              "        vertical-align: top;\n",
              "    }\n",
              "\n",
              "    .dataframe thead th {\n",
              "        text-align: right;\n",
              "    }\n",
              "</style>\n",
              "<table border=\"1\" class=\"dataframe\">\n",
              "  <thead>\n",
              "    <tr style=\"text-align: right;\">\n",
              "      <th></th>\n",
              "      <th>carat</th>\n",
              "      <th>depth</th>\n",
              "      <th>table</th>\n",
              "      <th>price</th>\n",
              "      <th>x</th>\n",
              "      <th>y</th>\n",
              "      <th>z</th>\n",
              "    </tr>\n",
              "  </thead>\n",
              "  <tbody>\n",
              "    <tr>\n",
              "      <th>count</th>\n",
              "      <td>53940.000000</td>\n",
              "      <td>53940.000000</td>\n",
              "      <td>53940.000000</td>\n",
              "      <td>53940.000000</td>\n",
              "      <td>53940.000000</td>\n",
              "      <td>53940.000000</td>\n",
              "      <td>53940.000000</td>\n",
              "    </tr>\n",
              "    <tr>\n",
              "      <th>mean</th>\n",
              "      <td>0.797940</td>\n",
              "      <td>61.749405</td>\n",
              "      <td>57.457184</td>\n",
              "      <td>3932.799722</td>\n",
              "      <td>5.731157</td>\n",
              "      <td>5.734526</td>\n",
              "      <td>3.538734</td>\n",
              "    </tr>\n",
              "    <tr>\n",
              "      <th>std</th>\n",
              "      <td>0.474011</td>\n",
              "      <td>1.432621</td>\n",
              "      <td>2.234491</td>\n",
              "      <td>3989.439738</td>\n",
              "      <td>1.121761</td>\n",
              "      <td>1.142135</td>\n",
              "      <td>0.705699</td>\n",
              "    </tr>\n",
              "    <tr>\n",
              "      <th>min</th>\n",
              "      <td>0.200000</td>\n",
              "      <td>43.000000</td>\n",
              "      <td>43.000000</td>\n",
              "      <td>326.000000</td>\n",
              "      <td>0.000000</td>\n",
              "      <td>0.000000</td>\n",
              "      <td>0.000000</td>\n",
              "    </tr>\n",
              "    <tr>\n",
              "      <th>25%</th>\n",
              "      <td>0.400000</td>\n",
              "      <td>61.000000</td>\n",
              "      <td>56.000000</td>\n",
              "      <td>950.000000</td>\n",
              "      <td>4.710000</td>\n",
              "      <td>4.720000</td>\n",
              "      <td>2.910000</td>\n",
              "    </tr>\n",
              "    <tr>\n",
              "      <th>50%</th>\n",
              "      <td>0.700000</td>\n",
              "      <td>61.800000</td>\n",
              "      <td>57.000000</td>\n",
              "      <td>2401.000000</td>\n",
              "      <td>5.700000</td>\n",
              "      <td>5.710000</td>\n",
              "      <td>3.530000</td>\n",
              "    </tr>\n",
              "    <tr>\n",
              "      <th>75%</th>\n",
              "      <td>1.040000</td>\n",
              "      <td>62.500000</td>\n",
              "      <td>59.000000</td>\n",
              "      <td>5324.250000</td>\n",
              "      <td>6.540000</td>\n",
              "      <td>6.540000</td>\n",
              "      <td>4.040000</td>\n",
              "    </tr>\n",
              "    <tr>\n",
              "      <th>max</th>\n",
              "      <td>5.010000</td>\n",
              "      <td>79.000000</td>\n",
              "      <td>95.000000</td>\n",
              "      <td>18823.000000</td>\n",
              "      <td>10.740000</td>\n",
              "      <td>58.900000</td>\n",
              "      <td>31.800000</td>\n",
              "    </tr>\n",
              "  </tbody>\n",
              "</table>\n",
              "</div>"
            ],
            "text/plain": [
              "              carat         depth  ...             y             z\n",
              "count  53940.000000  53940.000000  ...  53940.000000  53940.000000\n",
              "mean       0.797940     61.749405  ...      5.734526      3.538734\n",
              "std        0.474011      1.432621  ...      1.142135      0.705699\n",
              "min        0.200000     43.000000  ...      0.000000      0.000000\n",
              "25%        0.400000     61.000000  ...      4.720000      2.910000\n",
              "50%        0.700000     61.800000  ...      5.710000      3.530000\n",
              "75%        1.040000     62.500000  ...      6.540000      4.040000\n",
              "max        5.010000     79.000000  ...     58.900000     31.800000\n",
              "\n",
              "[8 rows x 7 columns]"
            ]
          },
          "metadata": {},
          "execution_count": 4
        }
      ]
    },
    {
      "cell_type": "code",
      "metadata": {
        "colab": {
          "base_uri": "https://localhost:8080/",
          "height": 349
        },
        "id": "v3a_iIoGF0JX",
        "outputId": "effab79f-0a8e-4d1c-84b7-53b91d84338f"
      },
      "source": [
        "var_r = des_df.var() #Calculating variance seperately\n",
        "\n",
        "varlist = []\n",
        "for col in des_df.columns:\n",
        "    if des_df[col].dtype == 'object':\n",
        "        continue\n",
        "    varlist.append(round(des_df[col],5))\n",
        "\n",
        "df = pd.DataFrame([varlist],columns=des_r.columns,index=['var'])\n",
        "mct = des_r.append(df) #Adding var to describe result\n",
        "mct"
      ],
      "execution_count": 5,
      "outputs": [
        {
          "output_type": "execute_result",
          "data": {
            "text/html": [
              "<div>\n",
              "<style scoped>\n",
              "    .dataframe tbody tr th:only-of-type {\n",
              "        vertical-align: middle;\n",
              "    }\n",
              "\n",
              "    .dataframe tbody tr th {\n",
              "        vertical-align: top;\n",
              "    }\n",
              "\n",
              "    .dataframe thead th {\n",
              "        text-align: right;\n",
              "    }\n",
              "</style>\n",
              "<table border=\"1\" class=\"dataframe\">\n",
              "  <thead>\n",
              "    <tr style=\"text-align: right;\">\n",
              "      <th></th>\n",
              "      <th>carat</th>\n",
              "      <th>depth</th>\n",
              "      <th>table</th>\n",
              "      <th>price</th>\n",
              "      <th>x</th>\n",
              "      <th>y</th>\n",
              "      <th>z</th>\n",
              "    </tr>\n",
              "  </thead>\n",
              "  <tbody>\n",
              "    <tr>\n",
              "      <th>count</th>\n",
              "      <td>53940</td>\n",
              "      <td>53940</td>\n",
              "      <td>53940</td>\n",
              "      <td>53940</td>\n",
              "      <td>53940</td>\n",
              "      <td>53940</td>\n",
              "      <td>53940</td>\n",
              "    </tr>\n",
              "    <tr>\n",
              "      <th>mean</th>\n",
              "      <td>0.79794</td>\n",
              "      <td>61.7494</td>\n",
              "      <td>57.4572</td>\n",
              "      <td>3932.8</td>\n",
              "      <td>5.73116</td>\n",
              "      <td>5.73453</td>\n",
              "      <td>3.53873</td>\n",
              "    </tr>\n",
              "    <tr>\n",
              "      <th>std</th>\n",
              "      <td>0.474011</td>\n",
              "      <td>1.43262</td>\n",
              "      <td>2.23449</td>\n",
              "      <td>3989.44</td>\n",
              "      <td>1.12176</td>\n",
              "      <td>1.14213</td>\n",
              "      <td>0.705699</td>\n",
              "    </tr>\n",
              "    <tr>\n",
              "      <th>min</th>\n",
              "      <td>0.2</td>\n",
              "      <td>43</td>\n",
              "      <td>43</td>\n",
              "      <td>326</td>\n",
              "      <td>0</td>\n",
              "      <td>0</td>\n",
              "      <td>0</td>\n",
              "    </tr>\n",
              "    <tr>\n",
              "      <th>25%</th>\n",
              "      <td>0.4</td>\n",
              "      <td>61</td>\n",
              "      <td>56</td>\n",
              "      <td>950</td>\n",
              "      <td>4.71</td>\n",
              "      <td>4.72</td>\n",
              "      <td>2.91</td>\n",
              "    </tr>\n",
              "    <tr>\n",
              "      <th>50%</th>\n",
              "      <td>0.7</td>\n",
              "      <td>61.8</td>\n",
              "      <td>57</td>\n",
              "      <td>2401</td>\n",
              "      <td>5.7</td>\n",
              "      <td>5.71</td>\n",
              "      <td>3.53</td>\n",
              "    </tr>\n",
              "    <tr>\n",
              "      <th>75%</th>\n",
              "      <td>1.04</td>\n",
              "      <td>62.5</td>\n",
              "      <td>59</td>\n",
              "      <td>5324.25</td>\n",
              "      <td>6.54</td>\n",
              "      <td>6.54</td>\n",
              "      <td>4.04</td>\n",
              "    </tr>\n",
              "    <tr>\n",
              "      <th>max</th>\n",
              "      <td>5.01</td>\n",
              "      <td>79</td>\n",
              "      <td>95</td>\n",
              "      <td>18823</td>\n",
              "      <td>10.74</td>\n",
              "      <td>58.9</td>\n",
              "      <td>31.8</td>\n",
              "    </tr>\n",
              "    <tr>\n",
              "      <th>var</th>\n",
              "      <td>count         53940.00000\n",
              "mean              0....</td>\n",
              "      <td>count         53940.00000\n",
              "mean             61....</td>\n",
              "      <td>count         53940.00000\n",
              "mean             57....</td>\n",
              "      <td>count         53940.00000\n",
              "mean           3932....</td>\n",
              "      <td>count         53940.00000\n",
              "mean              5....</td>\n",
              "      <td>count         53940.00000\n",
              "mean              5....</td>\n",
              "      <td>count         53940.00000\n",
              "mean              3....</td>\n",
              "    </tr>\n",
              "  </tbody>\n",
              "</table>\n",
              "</div>"
            ],
            "text/plain": [
              "                                                   carat  ...                                                  z\n",
              "count                                              53940  ...                                              53940\n",
              "mean                                             0.79794  ...                                            3.53873\n",
              "std                                             0.474011  ...                                           0.705699\n",
              "min                                                  0.2  ...                                                  0\n",
              "25%                                                  0.4  ...                                               2.91\n",
              "50%                                                  0.7  ...                                               3.53\n",
              "75%                                                 1.04  ...                                               4.04\n",
              "max                                                 5.01  ...                                               31.8\n",
              "var    count         53940.00000\n",
              "mean              0....  ...  count         53940.00000\n",
              "mean              3....\n",
              "\n",
              "[9 rows x 7 columns]"
            ]
          },
          "metadata": {},
          "execution_count": 5
        }
      ]
    }
  ]
}