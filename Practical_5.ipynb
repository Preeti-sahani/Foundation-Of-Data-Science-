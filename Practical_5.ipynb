{
  "nbformat": 4,
  "nbformat_minor": 0,
  "metadata": {
    "colab": {
      "name": "Practical_5.ipynb",
      "provenance": []
    },
    "kernelspec": {
      "name": "python3",
      "display_name": "Python 3"
    },
    "language_info": {
      "name": "python"
    }
  },
  "cells": [
    {
      "cell_type": "markdown",
      "metadata": {
        "id": "aktdaiLcX0X6"
      },
      "source": [
        "#**Probability**\n",
        "prob= no of favourable outcome/total possibble outcome\n",
        "\n",
        "**Probability of getting one head when coin tossed thrice.**"
      ]
    },
    {
      "cell_type": "code",
      "metadata": {
        "colab": {
          "base_uri": "https://localhost:8080/"
        },
        "id": "akJBEnjRXziX",
        "outputId": "9fff9fd9-3c8c-45b3-b9c9-5d2cc7b085b7"
      },
      "source": [
        "ns   = 6         #n(S)={1,2,3,4,5,6}\n",
        "na   = 1         #n(A)={3}\n",
        "pa   = na/ns     #P(A)\n",
        "print(\"Probability of getting 3 is : \", pa)"
      ],
      "execution_count": 40,
      "outputs": [
        {
          "output_type": "stream",
          "name": "stdout",
          "text": [
            "Probability of getting 3 is :  0.16666666666666666\n"
          ]
        }
      ]
    },
    {
      "cell_type": "code",
      "metadata": {
        "colab": {
          "base_uri": "https://localhost:8080/"
        },
        "id": "d6KaqcKGYDYL",
        "outputId": "287e8265-943b-4d92-a5c4-04d68768e7c7"
      },
      "source": [
        "ns   = 8\n",
        "na   = 7\n",
        "pa   = na/ns\n",
        "print(\"Probability of getting atleast one head is :\" ,pa)"
      ],
      "execution_count": 41,
      "outputs": [
        {
          "output_type": "stream",
          "name": "stdout",
          "text": [
            "Probability of getting atleast one head is : 0.875\n"
          ]
        }
      ]
    },
    {
      "cell_type": "markdown",
      "metadata": {
        "id": "K50NmKkLYUvV"
      },
      "source": [
        "**A glass of jar contains  5 red, 3 blue, 2 green jelly beans. if a jelly beans is chosen at random from the jar, what is the probability that it  is not blue.**"
      ]
    },
    {
      "cell_type": "code",
      "metadata": {
        "colab": {
          "base_uri": "https://localhost:8080/"
        },
        "id": "Fguu1Wz0YaiL",
        "outputId": "96ff63ee-3175-467a-e538-f0f3c882e3d6"
      },
      "source": [
        "ns  = 10         #n(S)={5red, 3 blue, 2 green}\n",
        "na  = 7          #n(A)={5 red, 3 blue}\n",
        "pa  = na/ns\n",
        "print(\"Probability that is not getting blue jellybean is :\" ,pa)"
      ],
      "execution_count": 42,
      "outputs": [
        {
          "output_type": "stream",
          "name": "stdout",
          "text": [
            "Probability that is not getting blue jellybean is : 0.7\n"
          ]
        }
      ]
    },
    {
      "cell_type": "markdown",
      "metadata": {
        "id": "W2XjMBk6Yf_i"
      },
      "source": [
        "**INDEPENDENCE AND DEPENDENCE EVENT**\n",
        "\n",
        "If prob thst person A will be alive in 20 yrs is 0.7 and prob that person B will be alive in 20 yrs is 0.5, what is the prob that they will both be alive in 20 yrs?\n",
        "\n",
        "This is a independent event"
      ]
    },
    {
      "cell_type": "code",
      "metadata": {
        "colab": {
          "base_uri": "https://localhost:8080/"
        },
        "id": "AtZox4bYYdiG",
        "outputId": "75c145ad-da23-4e89-e920-048e6d818452"
      },
      "source": [
        "P  = 0.7 * 0.5\n",
        "print(\"probability that they will be alive after 20 yrs is : \", P)"
      ],
      "execution_count": 43,
      "outputs": [
        {
          "output_type": "stream",
          "name": "stdout",
          "text": [
            "probability that they will be alive after 20 yrs is :  0.35\n"
          ]
        }
      ]
    },
    {
      "cell_type": "code",
      "metadata": {
        "id": "s1XIa6aLYj3f"
      },
      "source": [
        "def event_probability( n,s ):\n",
        "    return n/s"
      ],
      "execution_count": 44,
      "outputs": []
    },
    {
      "cell_type": "markdown",
      "metadata": {
        "id": "TTbzCupnY2vC"
      },
      "source": [
        "**A fair die is tossed twice. Find the prob of getting a 4 or 5 on the first toss and a 1, 2, or 3 in the second toss.**"
      ]
    },
    {
      "cell_type": "code",
      "metadata": {
        "colab": {
          "base_uri": "https://localhost:8080/"
        },
        "id": "RkkhbjtIYz_m",
        "outputId": "b2b6363b-615e-414c-a2e3-3d2013872347"
      },
      "source": [
        "pa  =  event_probability(2,6)    # prob of getting 4 or 5 is (2/6) i.e 1/6 + 1/6\n",
        "pb  =  event_probability(3,6)\n",
        "P   =  pa*pb\n",
        "print(\"probability of getting a 4 or 5 on the first toss and a 1, 2, or 3 in the second toss is : \" , P)"
      ],
      "execution_count": 45,
      "outputs": [
        {
          "output_type": "stream",
          "name": "stdout",
          "text": [
            "probability of getting a 4 or 5 on the first toss and a 1, 2, or 3 in the second toss is :  0.16666666666666666\n"
          ]
        }
      ]
    },
    {
      "cell_type": "markdown",
      "metadata": {
        "id": "u01_OoxZY94N"
      },
      "source": [
        "**A bag contains 5 white , 3 black  & 2 green marbles . In each draw a marble is drawn from the bag and not replaced . In three draws, find the probability of obtaining white , black, green in that order.**"
      ]
    },
    {
      "cell_type": "code",
      "metadata": {
        "colab": {
          "base_uri": "https://localhost:8080/"
        },
        "id": "g9xtfcvdY7qQ",
        "outputId": "26cada54-a4ef-433f-d37c-75338dc3b2c6"
      },
      "source": [
        "pw  = event_probability(5,10) \n",
        "pb  = event_probability(3,9)\n",
        "pg  = event_probability(2,8) \n",
        "\n",
        "print(\"probability of obtaining white , black, green marbles is\",(pw * pb * pg))"
      ],
      "execution_count": 46,
      "outputs": [
        {
          "output_type": "stream",
          "name": "stdout",
          "text": [
            "probability of obtaining white , black, green marbles is 0.041666666666666664\n"
          ]
        }
      ]
    },
    {
      "cell_type": "code",
      "metadata": {
        "colab": {
          "base_uri": "https://localhost:8080/"
        },
        "id": "U3fuYRLbZDv3",
        "outputId": "646c3bc6-2411-49c8-9425-43d00b698eda"
      },
      "source": [
        "# Sample Space \n",
        "cards= 52\n",
        "\n",
        "# Calculate the prob of drawing a heart or club\n",
        "heart  = 13\n",
        "club   = 13\n",
        "prob_heart_or_club = event_probability( heart, cards)+ event_probability(club, cards)\n",
        "print( prob_heart_or_club)"
      ],
      "execution_count": 47,
      "outputs": [
        {
          "output_type": "stream",
          "name": "stdout",
          "text": [
            "0.5\n"
          ]
        }
      ]
    },
    {
      "cell_type": "markdown",
      "metadata": {
        "id": "aiAr61n2ZKm6"
      },
      "source": [
        "**Calculate the probability of drawing Ace, King or Queen.**\n"
      ]
    },
    {
      "cell_type": "code",
      "metadata": {
        "colab": {
          "base_uri": "https://localhost:8080/"
        },
        "id": "HFq1Fwo3ZG5H",
        "outputId": "169d31bb-f8ec-4835-f34b-2f68b8cecb29"
      },
      "source": [
        "ace        = 4\n",
        "king       = 4\n",
        "queen      = 4\n",
        "ace_king_or_queen = event_probability(ace, cards) + event_probability(king, cards) + event_probability(queen, cards)\n",
        "print (ace_king_or_queen)"
      ],
      "execution_count": 48,
      "outputs": [
        {
          "output_type": "stream",
          "name": "stdout",
          "text": [
            "0.23076923076923078\n"
          ]
        }
      ]
    },
    {
      "cell_type": "markdown",
      "metadata": {
        "id": "RkuWSwAcZUbQ"
      },
      "source": [
        "**Calculate the probability of drawing a heart or ace card.**\n"
      ]
    },
    {
      "cell_type": "code",
      "metadata": {
        "colab": {
          "base_uri": "https://localhost:8080/"
        },
        "id": "nHNsD9-IZRAC",
        "outputId": "d8ae2198-cdb7-4f8f-f48e-11995066306f"
      },
      "source": [
        "cards          =  52\n",
        "hearts         =  13\n",
        "ace            =  4\n",
        "ace_of_heart   =  1\n",
        "heart_of_ace   = event_probability(heart, cards) + event_probability(ace, cards)\n",
        "print(round(heart_of_ace , 1))"
      ],
      "execution_count": 49,
      "outputs": [
        {
          "output_type": "stream",
          "name": "stdout",
          "text": [
            "0.3\n"
          ]
        }
      ]
    },
    {
      "cell_type": "markdown",
      "metadata": {
        "id": "JgytAgmYZjFU"
      },
      "source": [
        "**Calculate the probability of drawing red cards or face cards.**\n"
      ]
    },
    {
      "cell_type": "code",
      "metadata": {
        "colab": {
          "base_uri": "https://localhost:8080/"
        },
        "id": "jvEv_VVpZQ-Z",
        "outputId": "e90485b6-add2-4e3b-f0db-834e2867b3a1"
      },
      "source": [
        "red_card        =    26\n",
        "face_card       =    12\n",
        "red_face_card   =    6\n",
        "\n",
        "red_or_face_cards = event_probability(red_card, cards) + event_probability(face_card, cards) - event_probability(red_face_card, cards)\n",
        "print(round(red_or_face_cards, 1))"
      ],
      "execution_count": 50,
      "outputs": [
        {
          "output_type": "stream",
          "name": "stdout",
          "text": [
            "0.6\n"
          ]
        }
      ]
    },
    {
      "cell_type": "markdown",
      "metadata": {
        "id": "VuL3gzIJZzxu"
      },
      "source": [
        "#**Complentary Events**\n",
        "**probability of not getting 5 when a fair die is rolled.**\n",
        "\n"
      ]
    },
    {
      "cell_type": "code",
      "metadata": {
        "colab": {
          "base_uri": "https://localhost:8080/"
        },
        "id": "gLGDkTeiZQ36",
        "outputId": "be48feaa-d11b-4d00-83fb-68cf5db127d6"
      },
      "source": [
        "ns  =  6\n",
        "na  =  1     # n(A) = {5}\n",
        "pa  =  na/ns\n",
        "print(\"probability of not getting 5 is :\" ,1 - pa)"
      ],
      "execution_count": 51,
      "outputs": [
        {
          "output_type": "stream",
          "name": "stdout",
          "text": [
            "probability of not getting 5 is : 0.8333333333333334\n"
          ]
        }
      ]
    },
    {
      "cell_type": "markdown",
      "metadata": {
        "id": "-wLBG7wcZ__e"
      },
      "source": [
        "#**Conditional Probability**\n"
      ]
    },
    {
      "cell_type": "code",
      "metadata": {
        "colab": {
          "base_uri": "https://localhost:8080/",
          "height": 222
        },
        "id": "3GVh0H5vZQ2X",
        "outputId": "b02877de-a1b7-45ef-de17-350a83cd1d0c"
      },
      "source": [
        "import pandas as pd\n",
        "import numpy as np\n",
        "df  = pd.read_csv(\"/content/student-mat.csv\")\n",
        "df.head()"
      ],
      "execution_count": 52,
      "outputs": [
        {
          "output_type": "execute_result",
          "data": {
            "text/html": [
              "<div>\n",
              "<style scoped>\n",
              "    .dataframe tbody tr th:only-of-type {\n",
              "        vertical-align: middle;\n",
              "    }\n",
              "\n",
              "    .dataframe tbody tr th {\n",
              "        vertical-align: top;\n",
              "    }\n",
              "\n",
              "    .dataframe thead th {\n",
              "        text-align: right;\n",
              "    }\n",
              "</style>\n",
              "<table border=\"1\" class=\"dataframe\">\n",
              "  <thead>\n",
              "    <tr style=\"text-align: right;\">\n",
              "      <th></th>\n",
              "      <th>school</th>\n",
              "      <th>sex</th>\n",
              "      <th>age</th>\n",
              "      <th>address</th>\n",
              "      <th>famsize</th>\n",
              "      <th>Pstatus</th>\n",
              "      <th>Medu</th>\n",
              "      <th>Fedu</th>\n",
              "      <th>Mjob</th>\n",
              "      <th>Fjob</th>\n",
              "      <th>reason</th>\n",
              "      <th>guardian</th>\n",
              "      <th>traveltime</th>\n",
              "      <th>studytime</th>\n",
              "      <th>failures</th>\n",
              "      <th>schoolsup</th>\n",
              "      <th>famsup</th>\n",
              "      <th>paid</th>\n",
              "      <th>activities</th>\n",
              "      <th>nursery</th>\n",
              "      <th>higher</th>\n",
              "      <th>internet</th>\n",
              "      <th>romantic</th>\n",
              "      <th>famrel</th>\n",
              "      <th>freetime</th>\n",
              "      <th>goout</th>\n",
              "      <th>Dalc</th>\n",
              "      <th>Walc</th>\n",
              "      <th>health</th>\n",
              "      <th>absences</th>\n",
              "      <th>G1</th>\n",
              "      <th>G2</th>\n",
              "      <th>G3</th>\n",
              "    </tr>\n",
              "  </thead>\n",
              "  <tbody>\n",
              "    <tr>\n",
              "      <th>0</th>\n",
              "      <td>GP</td>\n",
              "      <td>F</td>\n",
              "      <td>18</td>\n",
              "      <td>U</td>\n",
              "      <td>GT3</td>\n",
              "      <td>A</td>\n",
              "      <td>4</td>\n",
              "      <td>4</td>\n",
              "      <td>at_home</td>\n",
              "      <td>teacher</td>\n",
              "      <td>course</td>\n",
              "      <td>mother</td>\n",
              "      <td>2</td>\n",
              "      <td>2</td>\n",
              "      <td>0</td>\n",
              "      <td>yes</td>\n",
              "      <td>no</td>\n",
              "      <td>no</td>\n",
              "      <td>no</td>\n",
              "      <td>yes</td>\n",
              "      <td>yes</td>\n",
              "      <td>no</td>\n",
              "      <td>no</td>\n",
              "      <td>4</td>\n",
              "      <td>3</td>\n",
              "      <td>4</td>\n",
              "      <td>1</td>\n",
              "      <td>1</td>\n",
              "      <td>3</td>\n",
              "      <td>6</td>\n",
              "      <td>5</td>\n",
              "      <td>6</td>\n",
              "      <td>6</td>\n",
              "    </tr>\n",
              "    <tr>\n",
              "      <th>1</th>\n",
              "      <td>GP</td>\n",
              "      <td>F</td>\n",
              "      <td>17</td>\n",
              "      <td>U</td>\n",
              "      <td>GT3</td>\n",
              "      <td>T</td>\n",
              "      <td>1</td>\n",
              "      <td>1</td>\n",
              "      <td>at_home</td>\n",
              "      <td>other</td>\n",
              "      <td>course</td>\n",
              "      <td>father</td>\n",
              "      <td>1</td>\n",
              "      <td>2</td>\n",
              "      <td>0</td>\n",
              "      <td>no</td>\n",
              "      <td>yes</td>\n",
              "      <td>no</td>\n",
              "      <td>no</td>\n",
              "      <td>no</td>\n",
              "      <td>yes</td>\n",
              "      <td>yes</td>\n",
              "      <td>no</td>\n",
              "      <td>5</td>\n",
              "      <td>3</td>\n",
              "      <td>3</td>\n",
              "      <td>1</td>\n",
              "      <td>1</td>\n",
              "      <td>3</td>\n",
              "      <td>4</td>\n",
              "      <td>5</td>\n",
              "      <td>5</td>\n",
              "      <td>6</td>\n",
              "    </tr>\n",
              "    <tr>\n",
              "      <th>2</th>\n",
              "      <td>GP</td>\n",
              "      <td>F</td>\n",
              "      <td>15</td>\n",
              "      <td>U</td>\n",
              "      <td>LE3</td>\n",
              "      <td>T</td>\n",
              "      <td>1</td>\n",
              "      <td>1</td>\n",
              "      <td>at_home</td>\n",
              "      <td>other</td>\n",
              "      <td>other</td>\n",
              "      <td>mother</td>\n",
              "      <td>1</td>\n",
              "      <td>2</td>\n",
              "      <td>3</td>\n",
              "      <td>yes</td>\n",
              "      <td>no</td>\n",
              "      <td>yes</td>\n",
              "      <td>no</td>\n",
              "      <td>yes</td>\n",
              "      <td>yes</td>\n",
              "      <td>yes</td>\n",
              "      <td>no</td>\n",
              "      <td>4</td>\n",
              "      <td>3</td>\n",
              "      <td>2</td>\n",
              "      <td>2</td>\n",
              "      <td>3</td>\n",
              "      <td>3</td>\n",
              "      <td>10</td>\n",
              "      <td>7</td>\n",
              "      <td>8</td>\n",
              "      <td>10</td>\n",
              "    </tr>\n",
              "    <tr>\n",
              "      <th>3</th>\n",
              "      <td>GP</td>\n",
              "      <td>F</td>\n",
              "      <td>15</td>\n",
              "      <td>U</td>\n",
              "      <td>GT3</td>\n",
              "      <td>T</td>\n",
              "      <td>4</td>\n",
              "      <td>2</td>\n",
              "      <td>health</td>\n",
              "      <td>services</td>\n",
              "      <td>home</td>\n",
              "      <td>mother</td>\n",
              "      <td>1</td>\n",
              "      <td>3</td>\n",
              "      <td>0</td>\n",
              "      <td>no</td>\n",
              "      <td>yes</td>\n",
              "      <td>yes</td>\n",
              "      <td>yes</td>\n",
              "      <td>yes</td>\n",
              "      <td>yes</td>\n",
              "      <td>yes</td>\n",
              "      <td>yes</td>\n",
              "      <td>3</td>\n",
              "      <td>2</td>\n",
              "      <td>2</td>\n",
              "      <td>1</td>\n",
              "      <td>1</td>\n",
              "      <td>5</td>\n",
              "      <td>2</td>\n",
              "      <td>15</td>\n",
              "      <td>14</td>\n",
              "      <td>15</td>\n",
              "    </tr>\n",
              "    <tr>\n",
              "      <th>4</th>\n",
              "      <td>GP</td>\n",
              "      <td>F</td>\n",
              "      <td>16</td>\n",
              "      <td>U</td>\n",
              "      <td>GT3</td>\n",
              "      <td>T</td>\n",
              "      <td>3</td>\n",
              "      <td>3</td>\n",
              "      <td>other</td>\n",
              "      <td>other</td>\n",
              "      <td>home</td>\n",
              "      <td>father</td>\n",
              "      <td>1</td>\n",
              "      <td>2</td>\n",
              "      <td>0</td>\n",
              "      <td>no</td>\n",
              "      <td>yes</td>\n",
              "      <td>yes</td>\n",
              "      <td>no</td>\n",
              "      <td>yes</td>\n",
              "      <td>yes</td>\n",
              "      <td>no</td>\n",
              "      <td>no</td>\n",
              "      <td>4</td>\n",
              "      <td>3</td>\n",
              "      <td>2</td>\n",
              "      <td>1</td>\n",
              "      <td>2</td>\n",
              "      <td>5</td>\n",
              "      <td>4</td>\n",
              "      <td>6</td>\n",
              "      <td>10</td>\n",
              "      <td>10</td>\n",
              "    </tr>\n",
              "  </tbody>\n",
              "</table>\n",
              "</div>"
            ],
            "text/plain": [
              "  school sex  age address famsize Pstatus  ...  Walc  health absences  G1  G2  G3\n",
              "0     GP   F   18       U     GT3       A  ...     1       3        6   5   6   6\n",
              "1     GP   F   17       U     GT3       T  ...     1       3        4   5   5   6\n",
              "2     GP   F   15       U     LE3       T  ...     3       3       10   7   8  10\n",
              "3     GP   F   15       U     GT3       T  ...     1       5        2  15  14  15\n",
              "4     GP   F   16       U     GT3       T  ...     2       5        4   6  10  10\n",
              "\n",
              "[5 rows x 33 columns]"
            ]
          },
          "metadata": {},
          "execution_count": 52
        }
      ]
    },
    {
      "cell_type": "code",
      "metadata": {
        "colab": {
          "base_uri": "https://localhost:8080/"
        },
        "id": "BdvqJK4UZQx6",
        "outputId": "85c36c1c-b215-42f3-a02e-a161f4502f00"
      },
      "source": [
        "len(df)"
      ],
      "execution_count": 53,
      "outputs": [
        {
          "output_type": "execute_result",
          "data": {
            "text/plain": [
              "395"
            ]
          },
          "metadata": {},
          "execution_count": 53
        }
      ]
    },
    {
      "cell_type": "markdown",
      "metadata": {
        "id": "hANSWwiOa_RI"
      },
      "source": [
        "\n",
        "**We are concerned with columns , absences ( no of absences), and G3 (final grade from 0 to 20)**\n",
        "\n",
        "**Let us create a couple new boolwan columns based on these columns to make our lives easier.**\n",
        "\n",
        "**Add a boolean column called grade_A nothing if a student achieved 80 % or higher as a final score. Orginal values are on 0 - 20 scale so we multiply by 5.**"
      ]
    },
    {
      "cell_type": "code",
      "metadata": {
        "id": "OCEmQ1J7ZQwR"
      },
      "source": [
        "df['grade_A']   = np.where(df['G3'] *5  >= 80  , 1 , 0)"
      ],
      "execution_count": 54,
      "outputs": []
    },
    {
      "cell_type": "markdown",
      "metadata": {
        "id": "u7s8C2l_bK1n"
      },
      "source": [
        "**Make a boolean column called high_absenses with a value of 1 if a student missed 10 or more classes.**"
      ]
    },
    {
      "cell_type": "code",
      "metadata": {
        "id": "t5zw6yNPZQsK"
      },
      "source": [
        "df['high_absences'] = np.where(df['absences']  >= 10, 1, 0)"
      ],
      "execution_count": 55,
      "outputs": []
    },
    {
      "cell_type": "code",
      "metadata": {
        "colab": {
          "base_uri": "https://localhost:8080/"
        },
        "id": "3IkOf-2OZQqb",
        "outputId": "6a940b3d-fd7c-4e84-c141-c7d990f17338"
      },
      "source": [
        "df.head(3)"
      ],
      "execution_count": 56,
      "outputs": [
        {
          "output_type": "execute_result",
          "data": {
            "text/html": [
              "<div>\n",
              "<style scoped>\n",
              "    .dataframe tbody tr th:only-of-type {\n",
              "        vertical-align: middle;\n",
              "    }\n",
              "\n",
              "    .dataframe tbody tr th {\n",
              "        vertical-align: top;\n",
              "    }\n",
              "\n",
              "    .dataframe thead th {\n",
              "        text-align: right;\n",
              "    }\n",
              "</style>\n",
              "<table border=\"1\" class=\"dataframe\">\n",
              "  <thead>\n",
              "    <tr style=\"text-align: right;\">\n",
              "      <th></th>\n",
              "      <th>school</th>\n",
              "      <th>sex</th>\n",
              "      <th>age</th>\n",
              "      <th>address</th>\n",
              "      <th>famsize</th>\n",
              "      <th>Pstatus</th>\n",
              "      <th>Medu</th>\n",
              "      <th>Fedu</th>\n",
              "      <th>Mjob</th>\n",
              "      <th>Fjob</th>\n",
              "      <th>reason</th>\n",
              "      <th>guardian</th>\n",
              "      <th>traveltime</th>\n",
              "      <th>studytime</th>\n",
              "      <th>failures</th>\n",
              "      <th>schoolsup</th>\n",
              "      <th>famsup</th>\n",
              "      <th>paid</th>\n",
              "      <th>activities</th>\n",
              "      <th>nursery</th>\n",
              "      <th>higher</th>\n",
              "      <th>internet</th>\n",
              "      <th>romantic</th>\n",
              "      <th>famrel</th>\n",
              "      <th>freetime</th>\n",
              "      <th>goout</th>\n",
              "      <th>Dalc</th>\n",
              "      <th>Walc</th>\n",
              "      <th>health</th>\n",
              "      <th>absences</th>\n",
              "      <th>G1</th>\n",
              "      <th>G2</th>\n",
              "      <th>G3</th>\n",
              "      <th>grade_A</th>\n",
              "      <th>high_absences</th>\n",
              "    </tr>\n",
              "  </thead>\n",
              "  <tbody>\n",
              "    <tr>\n",
              "      <th>0</th>\n",
              "      <td>GP</td>\n",
              "      <td>F</td>\n",
              "      <td>18</td>\n",
              "      <td>U</td>\n",
              "      <td>GT3</td>\n",
              "      <td>A</td>\n",
              "      <td>4</td>\n",
              "      <td>4</td>\n",
              "      <td>at_home</td>\n",
              "      <td>teacher</td>\n",
              "      <td>course</td>\n",
              "      <td>mother</td>\n",
              "      <td>2</td>\n",
              "      <td>2</td>\n",
              "      <td>0</td>\n",
              "      <td>yes</td>\n",
              "      <td>no</td>\n",
              "      <td>no</td>\n",
              "      <td>no</td>\n",
              "      <td>yes</td>\n",
              "      <td>yes</td>\n",
              "      <td>no</td>\n",
              "      <td>no</td>\n",
              "      <td>4</td>\n",
              "      <td>3</td>\n",
              "      <td>4</td>\n",
              "      <td>1</td>\n",
              "      <td>1</td>\n",
              "      <td>3</td>\n",
              "      <td>6</td>\n",
              "      <td>5</td>\n",
              "      <td>6</td>\n",
              "      <td>6</td>\n",
              "      <td>0</td>\n",
              "      <td>0</td>\n",
              "    </tr>\n",
              "    <tr>\n",
              "      <th>1</th>\n",
              "      <td>GP</td>\n",
              "      <td>F</td>\n",
              "      <td>17</td>\n",
              "      <td>U</td>\n",
              "      <td>GT3</td>\n",
              "      <td>T</td>\n",
              "      <td>1</td>\n",
              "      <td>1</td>\n",
              "      <td>at_home</td>\n",
              "      <td>other</td>\n",
              "      <td>course</td>\n",
              "      <td>father</td>\n",
              "      <td>1</td>\n",
              "      <td>2</td>\n",
              "      <td>0</td>\n",
              "      <td>no</td>\n",
              "      <td>yes</td>\n",
              "      <td>no</td>\n",
              "      <td>no</td>\n",
              "      <td>no</td>\n",
              "      <td>yes</td>\n",
              "      <td>yes</td>\n",
              "      <td>no</td>\n",
              "      <td>5</td>\n",
              "      <td>3</td>\n",
              "      <td>3</td>\n",
              "      <td>1</td>\n",
              "      <td>1</td>\n",
              "      <td>3</td>\n",
              "      <td>4</td>\n",
              "      <td>5</td>\n",
              "      <td>5</td>\n",
              "      <td>6</td>\n",
              "      <td>0</td>\n",
              "      <td>0</td>\n",
              "    </tr>\n",
              "    <tr>\n",
              "      <th>2</th>\n",
              "      <td>GP</td>\n",
              "      <td>F</td>\n",
              "      <td>15</td>\n",
              "      <td>U</td>\n",
              "      <td>LE3</td>\n",
              "      <td>T</td>\n",
              "      <td>1</td>\n",
              "      <td>1</td>\n",
              "      <td>at_home</td>\n",
              "      <td>other</td>\n",
              "      <td>other</td>\n",
              "      <td>mother</td>\n",
              "      <td>1</td>\n",
              "      <td>2</td>\n",
              "      <td>3</td>\n",
              "      <td>yes</td>\n",
              "      <td>no</td>\n",
              "      <td>yes</td>\n",
              "      <td>no</td>\n",
              "      <td>yes</td>\n",
              "      <td>yes</td>\n",
              "      <td>yes</td>\n",
              "      <td>no</td>\n",
              "      <td>4</td>\n",
              "      <td>3</td>\n",
              "      <td>2</td>\n",
              "      <td>2</td>\n",
              "      <td>3</td>\n",
              "      <td>3</td>\n",
              "      <td>10</td>\n",
              "      <td>7</td>\n",
              "      <td>8</td>\n",
              "      <td>10</td>\n",
              "      <td>0</td>\n",
              "      <td>1</td>\n",
              "    </tr>\n",
              "  </tbody>\n",
              "</table>\n",
              "</div>"
            ],
            "text/plain": [
              "  school sex  age address famsize  ... G1  G2  G3 grade_A high_absences\n",
              "0     GP   F   18       U     GT3  ...  5   6   6       0             0\n",
              "1     GP   F   17       U     GT3  ...  5   5   6       0             0\n",
              "2     GP   F   15       U     LE3  ...  7   8  10       0             1\n",
              "\n",
              "[3 rows x 35 columns]"
            ]
          },
          "metadata": {},
          "execution_count": 56
        }
      ]
    },
    {
      "cell_type": "code",
      "metadata": {
        "id": "oaIGd8RhbVwe"
      },
      "source": [
        "df['count']  = 1"
      ],
      "execution_count": 57,
      "outputs": []
    },
    {
      "cell_type": "markdown",
      "metadata": {
        "id": "vAmsn143bZX4"
      },
      "source": [
        "**and drop all columns we dont care about**"
      ]
    },
    {
      "cell_type": "code",
      "metadata": {
        "colab": {
          "base_uri": "https://localhost:8080/"
        },
        "id": "DrLv84s7bVuz",
        "outputId": "18fdc8ec-5a5a-4d61-ada0-e06e024a02e8"
      },
      "source": [
        "df = df[['grade_A', 'high_absences', \"count\"]]\n",
        "df.head()"
      ],
      "execution_count": 58,
      "outputs": [
        {
          "output_type": "execute_result",
          "data": {
            "text/html": [
              "<div>\n",
              "<style scoped>\n",
              "    .dataframe tbody tr th:only-of-type {\n",
              "        vertical-align: middle;\n",
              "    }\n",
              "\n",
              "    .dataframe tbody tr th {\n",
              "        vertical-align: top;\n",
              "    }\n",
              "\n",
              "    .dataframe thead th {\n",
              "        text-align: right;\n",
              "    }\n",
              "</style>\n",
              "<table border=\"1\" class=\"dataframe\">\n",
              "  <thead>\n",
              "    <tr style=\"text-align: right;\">\n",
              "      <th></th>\n",
              "      <th>grade_A</th>\n",
              "      <th>high_absences</th>\n",
              "      <th>count</th>\n",
              "    </tr>\n",
              "  </thead>\n",
              "  <tbody>\n",
              "    <tr>\n",
              "      <th>0</th>\n",
              "      <td>0</td>\n",
              "      <td>0</td>\n",
              "      <td>1</td>\n",
              "    </tr>\n",
              "    <tr>\n",
              "      <th>1</th>\n",
              "      <td>0</td>\n",
              "      <td>0</td>\n",
              "      <td>1</td>\n",
              "    </tr>\n",
              "    <tr>\n",
              "      <th>2</th>\n",
              "      <td>0</td>\n",
              "      <td>1</td>\n",
              "      <td>1</td>\n",
              "    </tr>\n",
              "    <tr>\n",
              "      <th>3</th>\n",
              "      <td>0</td>\n",
              "      <td>0</td>\n",
              "      <td>1</td>\n",
              "    </tr>\n",
              "    <tr>\n",
              "      <th>4</th>\n",
              "      <td>0</td>\n",
              "      <td>0</td>\n",
              "      <td>1</td>\n",
              "    </tr>\n",
              "  </tbody>\n",
              "</table>\n",
              "</div>"
            ],
            "text/plain": [
              "   grade_A  high_absences  count\n",
              "0        0              0      1\n",
              "1        0              0      1\n",
              "2        0              1      1\n",
              "3        0              0      1\n",
              "4        0              0      1"
            ]
          },
          "metadata": {},
          "execution_count": 58
        }
      ]
    },
    {
      "cell_type": "markdown",
      "metadata": {
        "id": "clC8bHYLbfzG"
      },
      "source": [
        "**Now we have to create pivot table from this.**"
      ]
    },
    {
      "cell_type": "code",
      "metadata": {
        "id": "HIipEStsbVpZ"
      },
      "source": [
        "final  = pd.pivot_table(\n",
        "         df, \n",
        "         values       = 'count' ,\n",
        "         index        = ['grade_A'],\n",
        "        columns       = ['high_absences'],\n",
        "        aggfunc       =  np.size,\n",
        "        fill_value    =  0    )"
      ],
      "execution_count": 59,
      "outputs": []
    },
    {
      "cell_type": "code",
      "metadata": {
        "colab": {
          "base_uri": "https://localhost:8080/"
        },
        "id": "fF8JsB6UbVnO",
        "outputId": "b541d181-7f8d-4061-810f-776805944d59"
      },
      "source": [
        "print(final)"
      ],
      "execution_count": 60,
      "outputs": [
        {
          "output_type": "stream",
          "name": "stdout",
          "text": [
            "high_absences    0   1\n",
            "grade_A               \n",
            "0              277  78\n",
            "1               35   5\n"
          ]
        }
      ]
    },
    {
      "cell_type": "markdown",
      "metadata": {
        "id": "deYl5KhcboXe"
      },
      "source": [
        "**Calculate the probability that student will get grade A given that missing 10 or more classes We now have all the data we need to do our calculation. Ih our case: P(A) = prob of gradeof 80% or greater P(B) = prob of missing 10 or more lecture P(A/B) = prob of 80% + grade given missing more than 10 classes**\n",
        "\n",
        "**P(A)= (35+5) / (277+35+78+5) = 0.10126 P(B)= (78+5) / (277+35+78+5) = 0.2101 P(A or B) = (5) / (277+35+78+5) = 0.0126 P(A/B) = P(A or B)/P(B) = 0.60**\n",
        " \n",
        "**The probability of getting atleast an 80% final grade , given missing 10 or more classes is 6%.**"
      ]
    },
    {
      "cell_type": "code",
      "metadata": {
        "colab": {
          "base_uri": "https://localhost:8080/"
        },
        "id": "tSBxKg23bmCt",
        "outputId": "50d7551c-c5e9-43f6-f8b3-df94a562feed"
      },
      "source": [
        "def prob(p_a, p_b, p_a_or_b) :\n",
        "   \n",
        "    p_a_given_b  =  p_a_or_b / p_b\n",
        "    \n",
        "    return p_a_given_b\n",
        "p_a        = (35+5) / (277+35+78+5)\n",
        "p_b        = (78+5) / (277+35+78+5)\n",
        "p_a_or_b   =  (5) / (277+35+78+5)\n",
        "    \n",
        "    \n",
        "result  = prob(p_a, p_b, p_a_or_b)\n",
        "\n",
        "print('P(A/B)= %.3f%%' %(result * 100))"
      ],
      "execution_count": 61,
      "outputs": [
        {
          "output_type": "stream",
          "name": "stdout",
          "text": [
            "P(A/B)= 6.024%\n"
          ]
        }
      ]
    },
    {
      "cell_type": "markdown",
      "metadata": {
        "id": "taPuvD6Yb6JH"
      },
      "source": [
        "#**Combinatoric : Permutation, Combination and Variation**\n",
        "Permutation with repetition : n^n\n",
        "\n",
        "\n",
        "**Permutation of green and blue with repetition.**\n",
        "\n",
        "\n"
      ]
    },
    {
      "cell_type": "code",
      "metadata": {
        "colab": {
          "base_uri": "https://localhost:8080/"
        },
        "id": "OeWgBqDAbmAX",
        "outputId": "e332b57d-99d6-412b-f3a5-a7e52f1c2945"
      },
      "source": [
        "import itertools\n",
        "from itertools import product\n",
        "box_1  =   ['g','b']\n",
        "perm=[]\n",
        "for p in itertools.product(box_1, repeat=2):\n",
        "    perm.append(p)\n",
        "    \n",
        "perm"
      ],
      "execution_count": 62,
      "outputs": [
        {
          "output_type": "execute_result",
          "data": {
            "text/plain": [
              "[('g', 'g'), ('g', 'b'), ('b', 'g'), ('b', 'b')]"
            ]
          },
          "metadata": {},
          "execution_count": 62
        }
      ]
    },
    {
      "cell_type": "markdown",
      "metadata": {
        "id": "8vTQhesNcHcp"
      },
      "source": [
        "**#permutation of green, blue and yellow with repetition.**"
      ]
    },
    {
      "cell_type": "code",
      "metadata": {
        "colab": {
          "base_uri": "https://localhost:8080/"
        },
        "id": "ZiuEpTA7bl6X",
        "outputId": "c7c38bf5-8eda-4cc6-8de8-7d0770bbc534"
      },
      "source": [
        "import itertools\n",
        "from itertools import product\n",
        "box_2  =   ['g','b','y']\n",
        "perm=[]\n",
        "for p in itertools.product(box_2, repeat=3):\n",
        "    perm.append(p)\n",
        "    \n",
        "perm"
      ],
      "execution_count": 63,
      "outputs": [
        {
          "output_type": "execute_result",
          "data": {
            "text/plain": [
              "[('g', 'g', 'g'),\n",
              " ('g', 'g', 'b'),\n",
              " ('g', 'g', 'y'),\n",
              " ('g', 'b', 'g'),\n",
              " ('g', 'b', 'b'),\n",
              " ('g', 'b', 'y'),\n",
              " ('g', 'y', 'g'),\n",
              " ('g', 'y', 'b'),\n",
              " ('g', 'y', 'y'),\n",
              " ('b', 'g', 'g'),\n",
              " ('b', 'g', 'b'),\n",
              " ('b', 'g', 'y'),\n",
              " ('b', 'b', 'g'),\n",
              " ('b', 'b', 'b'),\n",
              " ('b', 'b', 'y'),\n",
              " ('b', 'y', 'g'),\n",
              " ('b', 'y', 'b'),\n",
              " ('b', 'y', 'y'),\n",
              " ('y', 'g', 'g'),\n",
              " ('y', 'g', 'b'),\n",
              " ('y', 'g', 'y'),\n",
              " ('y', 'b', 'g'),\n",
              " ('y', 'b', 'b'),\n",
              " ('y', 'b', 'y'),\n",
              " ('y', 'y', 'g'),\n",
              " ('y', 'y', 'b'),\n",
              " ('y', 'y', 'y')]"
            ]
          },
          "metadata": {},
          "execution_count": 63
        }
      ]
    },
    {
      "cell_type": "markdown",
      "metadata": {
        "id": "LtzQmbVTcOpt"
      },
      "source": [
        "**Permutation without repetition :123.....n= n!**\n",
        "\n",
        "**Permutation of green and blue without repetition.**\n"
      ]
    },
    {
      "cell_type": "code",
      "metadata": {
        "colab": {
          "base_uri": "https://localhost:8080/"
        },
        "id": "LVCnjEi7bl30",
        "outputId": "176e5261-2554-431f-a524-3750e0b73b0c"
      },
      "source": [
        "import itertools\n",
        "\n",
        "box_1 =['g','b']\n",
        "perm  = itertools.permutations(box_1)\n",
        "\n",
        "for i in list(perm):\n",
        "    print(i)"
      ],
      "execution_count": 64,
      "outputs": [
        {
          "output_type": "stream",
          "name": "stdout",
          "text": [
            "('g', 'b')\n",
            "('b', 'g')\n"
          ]
        }
      ]
    },
    {
      "cell_type": "markdown",
      "metadata": {
        "id": "ltxjdg5Zcacb"
      },
      "source": [
        "**Permutation of green,blue and yellow without repetition.**"
      ]
    },
    {
      "cell_type": "code",
      "metadata": {
        "colab": {
          "base_uri": "https://localhost:8080/"
        },
        "id": "1vzqAXgkcD4i",
        "outputId": "17604b01-b5c0-4b7e-ae82-bfd1113bd630"
      },
      "source": [
        "import itertools\n",
        "\n",
        "box_2 =['g','b','y']\n",
        "perm  = itertools.permutations(box_2)\n",
        "\n",
        "for i in list(perm):\n",
        "    print(i)"
      ],
      "execution_count": 65,
      "outputs": [
        {
          "output_type": "stream",
          "name": "stdout",
          "text": [
            "('g', 'b', 'y')\n",
            "('g', 'y', 'b')\n",
            "('b', 'g', 'y')\n",
            "('b', 'y', 'g')\n",
            "('y', 'g', 'b')\n",
            "('y', 'b', 'g')\n"
          ]
        }
      ]
    },
    {
      "cell_type": "markdown",
      "metadata": {
        "id": "rqxzKf_3cf7B"
      },
      "source": [
        "**Variation with repetion = n^k without repetion : n!/(n-k)!**\n",
        "\n",
        "**Variattion without repetion : n!/(n-k)!**"
      ]
    },
    {
      "cell_type": "code",
      "metadata": {
        "colab": {
          "base_uri": "https://localhost:8080/"
        },
        "id": "-FSByCYmcD2v",
        "outputId": "61ecef69-0f00-4a51-f423-f88096350a6e"
      },
      "source": [
        "#Variation of green, blue and yellow  with repetition.\n",
        "box_2 = ['g','b','y']\n",
        "perm=[]\n",
        "for p in itertools.product(box_2,repeat=2):\n",
        "    perm.append(p)\n",
        "perm"
      ],
      "execution_count": 66,
      "outputs": [
        {
          "output_type": "execute_result",
          "data": {
            "text/plain": [
              "[('g', 'g'),\n",
              " ('g', 'b'),\n",
              " ('g', 'y'),\n",
              " ('b', 'g'),\n",
              " ('b', 'b'),\n",
              " ('b', 'y'),\n",
              " ('y', 'g'),\n",
              " ('y', 'b'),\n",
              " ('y', 'y')]"
            ]
          },
          "metadata": {},
          "execution_count": 66
        }
      ]
    },
    {
      "cell_type": "code",
      "metadata": {
        "colab": {
          "base_uri": "https://localhost:8080/"
        },
        "id": "opf_XpVWcDzi",
        "outputId": "743544ff-e663-4b1d-a763-59801d696513"
      },
      "source": [
        "#Variation of green, blue and yellow  without repetition.\n",
        "box_2 = ['g','b','y']\n",
        "perm=itertools.permutations(box_2,2)\n",
        "\n",
        "for i in list(perm):\n",
        "    print(i)"
      ],
      "execution_count": 67,
      "outputs": [
        {
          "output_type": "stream",
          "name": "stdout",
          "text": [
            "('g', 'b')\n",
            "('g', 'y')\n",
            "('b', 'g')\n",
            "('b', 'y')\n",
            "('y', 'g')\n",
            "('y', 'b')\n"
          ]
        }
      ]
    },
    {
      "cell_type": "markdown",
      "metadata": {
        "id": "c7LTq8Lbcpbt"
      },
      "source": [
        "**Combination with repetition: C(n,k) =(n+k-1)!/k!(n-1)!**"
      ]
    },
    {
      "cell_type": "code",
      "metadata": {
        "colab": {
          "base_uri": "https://localhost:8080/"
        },
        "id": "e-iS_cfncDxu",
        "outputId": "62615f13-1ac9-47e0-9e36-ea11cb5f7be4"
      },
      "source": [
        "#Combination of green and blue with repetition\n",
        "from itertools import combinations_with_replacement\n",
        "\n",
        "box_1 = ['g','b']\n",
        "comb = combinations_with_replacement(box_1,2)\n",
        "\n",
        "for i in list(comb):\n",
        "    print(i)"
      ],
      "execution_count": 68,
      "outputs": [
        {
          "output_type": "stream",
          "name": "stdout",
          "text": [
            "('g', 'g')\n",
            "('g', 'b')\n",
            "('b', 'b')\n"
          ]
        }
      ]
    },
    {
      "cell_type": "code",
      "metadata": {
        "colab": {
          "base_uri": "https://localhost:8080/"
        },
        "id": "nWSjvI6_cuLY",
        "outputId": "c7a9991b-9894-43e4-f5b5-8bae1791523f"
      },
      "source": [
        "#Combination of green ,blue ,yellow and white with repetition of 2 element.\n",
        "from itertools import combinations_with_replacement\n",
        "\n",
        "box_1 = ['g','b','y','w']\n",
        "comb = combinations_with_replacement(box_1,2)\n",
        "\n",
        "for i in list(comb):\n",
        "    print(i)"
      ],
      "execution_count": 69,
      "outputs": [
        {
          "output_type": "stream",
          "name": "stdout",
          "text": [
            "('g', 'g')\n",
            "('g', 'b')\n",
            "('g', 'y')\n",
            "('g', 'w')\n",
            "('b', 'b')\n",
            "('b', 'y')\n",
            "('b', 'w')\n",
            "('y', 'y')\n",
            "('y', 'w')\n",
            "('w', 'w')\n"
          ]
        }
      ]
    },
    {
      "cell_type": "markdown",
      "metadata": {
        "id": "HofmsPz8cysX"
      },
      "source": [
        "**Combination without repetition : C(n,k) = n!/k!(n-k)!**"
      ]
    },
    {
      "cell_type": "code",
      "metadata": {
        "colab": {
          "base_uri": "https://localhost:8080/"
        },
        "id": "51B1VaNmcuH0",
        "outputId": "532d2f7c-fbfe-4237-b55b-598180a61642"
      },
      "source": [
        "#Combination of green and blue without repetition\n",
        "from itertools import combinations\n",
        "box_2 = ['b','g']\n",
        "comb = combinations(box_1,2)\n",
        "\n",
        "for i in list(comb):\n",
        "    print(i)"
      ],
      "execution_count": 70,
      "outputs": [
        {
          "output_type": "stream",
          "name": "stdout",
          "text": [
            "('g', 'b')\n",
            "('g', 'y')\n",
            "('g', 'w')\n",
            "('b', 'y')\n",
            "('b', 'w')\n",
            "('y', 'w')\n"
          ]
        }
      ]
    },
    {
      "cell_type": "code",
      "metadata": {
        "colab": {
          "base_uri": "https://localhost:8080/"
        },
        "id": "ZXQGojVocuGM",
        "outputId": "898e477b-502c-4e4c-999c-37d2bf2c9cd7"
      },
      "source": [
        "#Combination of green ,yellow and blue without repetition\n",
        "from itertools import combinations\n",
        "box_2 = ['b','g','y']\n",
        "comb = combinations(box_1,2)\n",
        "\n",
        "for i in list(comb):\n",
        "    print(i)"
      ],
      "execution_count": 71,
      "outputs": [
        {
          "output_type": "stream",
          "name": "stdout",
          "text": [
            "('g', 'b')\n",
            "('g', 'y')\n",
            "('g', 'w')\n",
            "('b', 'y')\n",
            "('b', 'w')\n",
            "('y', 'w')\n"
          ]
        }
      ]
    }
  ]
}