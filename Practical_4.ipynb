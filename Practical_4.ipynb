{
  "nbformat": 4,
  "nbformat_minor": 0,
  "metadata": {
    "colab": {
      "name": "Practical_4.ipynb",
      "provenance": []
    },
    "kernelspec": {
      "name": "python3",
      "display_name": "Python 3"
    },
    "language_info": {
      "name": "python"
    }
  },
  "cells": [
    {
      "cell_type": "markdown",
      "metadata": {
        "id": "L6UBTdS2uCvp"
      },
      "source": [
        "#**Practical-4**\n",
        "\n",
        "\n",
        "**Calculate the probablity of patients having cancer given test is positive**\n",
        "\n"
      ]
    },
    {
      "cell_type": "code",
      "metadata": {
        "colab": {
          "base_uri": "https://localhost:8080/"
        },
        "id": "2T-0XUkItl6C",
        "outputId": "61a64cfd-0bdd-4e8a-bd18-cb86b157b3ed"
      },
      "source": [
        "#Calculate probablity  P(A/B) given P(A)=0.02%, P(B/A)= 85%, p(B/not A)= 95%\n",
        "\n",
        "def bayes_law(p_a,p_b_given_a,p_b_given_not_a):\n",
        "    \n",
        "    #calculate P(not A)\n",
        "    not_a= 1- p_a\n",
        "    \n",
        "    #calculate P(B)\n",
        "    p_b= p_b_given_a * p_a + p_b_given_not_a * not_a\n",
        "    \n",
        "    #calculate P(A/B)\n",
        "    p_a_given_b = (p_b_given_a * p_a)/p_b\n",
        "    \n",
        "    return p_a_given_b\n",
        "\n",
        "p_a =0.0002\n",
        "p_b_given_a =0.85\n",
        "p_b_given_not_a =0.05\n",
        "\n",
        "result = bayes_law(p_a,p_b_given_a,p_b_given_not_a)\n",
        "\n",
        "print('P(A/B)= %.3f%%' %(result * 100))"
      ],
      "execution_count": 1,
      "outputs": [
        {
          "output_type": "stream",
          "name": "stdout",
          "text": [
            "P(A/B)= 0.339%\n"
          ]
        }
      ]
    },
    {
      "cell_type": "markdown",
      "metadata": {
        "id": "prTczdCPuPs8"
      },
      "source": [
        "**Calculate the Probability of Spam Email which contains word Congratulations**"
      ]
    },
    {
      "cell_type": "code",
      "metadata": {
        "colab": {
          "base_uri": "https://localhost:8080/"
        },
        "id": "u1oWZpY2uKFb",
        "outputId": "391a4f23-c48f-449c-a7cc-ffe0ddecce9e"
      },
      "source": [
        "def bayes_law(p_s, p_not_s, p_c_given_s, p_c_given_not_s):\n",
        "    \n",
        "    #calculate P(B)\n",
        "    p_c= (p_c_given_s * p_s) + (p_c_given_not_s * p_not_s)\n",
        "\n",
        "    #calculate P(A/B)\n",
        "    \n",
        "    p_s_given_c= (p_c_given_s * p_s) / p_c\n",
        "    \n",
        "    return p_s_given_c\n",
        "\n",
        "p_s= 0.3\n",
        "p_not_s= 0.7\n",
        "p_c_given_s= 0.75\n",
        "p_c_given_not_s= 0.35\n",
        "\n",
        "result= bayes_law(p_s, p_not_s, p_c_given_s, p_c_given_not_s)\n",
        "\n",
        "print('P(Spam/Congratulations) = %.3f%%' %(result ))"
      ],
      "execution_count": 2,
      "outputs": [
        {
          "output_type": "stream",
          "name": "stdout",
          "text": [
            "P(Spam/Congratulations) = 0.479%\n"
          ]
        }
      ]
    },
    {
      "cell_type": "code",
      "metadata": {
        "id": "HruFkayKuNTQ"
      },
      "source": [
        ""
      ],
      "execution_count": null,
      "outputs": []
    }
  ]
}