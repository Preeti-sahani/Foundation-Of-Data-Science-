{
  "nbformat": 4,
  "nbformat_minor": 0,
  "metadata": {
    "colab": {
      "name": "Practical_6.ipynb",
      "provenance": []
    },
    "kernelspec": {
      "name": "python3",
      "display_name": "Python 3"
    },
    "language_info": {
      "name": "python"
    }
  },
  "cells": [
    {
      "cell_type": "markdown",
      "metadata": {
        "id": "azaXpSpleCIm"
      },
      "source": [
        "#**Discrete distribution**\n",
        "\n",
        "**Importing Libraries**"
      ]
    },
    {
      "cell_type": "code",
      "metadata": {
        "id": "CPp1nubtdyC2"
      },
      "source": [
        "#for inline plots\n",
        "%matplotlib inline               \n",
        "\n",
        "import matplotlib.pyplot as plt           #import matplotlib\n",
        "from IPython.display import Math, Latex       #for latex equations\n",
        "from IPython.core.display import Image        #for displaying images\n",
        "import numpy as np\n",
        "import seaborn as sns                     #import seaborn\n",
        "\n",
        "sns.set(color_codes=True)                 #setting for seaborn platting style\n",
        "sns.set(rc={'figure.figsize' : (5,5)})      #setting for seaborn plot sizes\n"
      ],
      "execution_count": 12,
      "outputs": []
    },
    {
      "cell_type": "markdown",
      "metadata": {
        "id": "-bqot60je_kb"
      },
      "source": [
        "#**Uniform Distribution**"
      ]
    },
    {
      "cell_type": "code",
      "metadata": {
        "colab": {
          "base_uri": "https://localhost:8080/",
          "height": 339
        },
        "id": "yQou3poOe9aQ",
        "outputId": "02038f36-f0b5-41f6-84ac-b4f465601f21"
      },
      "source": [
        "from scipy.stats import randint\n",
        "import matplotlib.pyplot as plt\n",
        "fig,ax  = plt.subplots(1,1)\n",
        "\n",
        "#Calculate a few first moments:\n",
        "low,high = 7, 31\n",
        "mean, var , skew, kurt = randint.stats(low, high , moments='mvsk')\n",
        "\n",
        "#Display the pmf:\n",
        "\n",
        "x = np.arange(randint.ppf(0.01, low,high) , randint.ppf(0.99, low, high ))\n",
        "ax.plot(x, randint.pmf(x, low, high), 'bo', ms=8, label='randint pmf')\n",
        "ax.vlines(x,0, randint.pmf(x,low,high),colors='b',lw=5, alpha= 0.5) "
      ],
      "execution_count": 13,
      "outputs": [
        {
          "output_type": "execute_result",
          "data": {
            "text/plain": [
              "<matplotlib.collections.LineCollection at 0x7f3eee4d33d0>"
            ]
          },
          "metadata": {},
          "execution_count": 13
        },
        {
          "output_type": "display_data",
          "data": {
            "image/png": "[encoded data removed]",
            "text/plain": [
              "<Figure size 360x360 with 1 Axes>"
            ]
          },
          "metadata": {}
        }
      ]
    },
    {
      "cell_type": "code",
      "metadata": {
        "colab": {
          "base_uri": "https://localhost:8080/"
        },
        "id": "vgb4z7gge9UM",
        "outputId": "44ca1d0c-3ac9-4c63-9c41-0907f7006363"
      },
      "source": [
        "x"
      ],
      "execution_count": 14,
      "outputs": [
        {
          "output_type": "execute_result",
          "data": {
            "text/plain": [
              "array([ 7.,  8.,  9., 10., 11., 12., 13., 14., 15., 16., 17., 18., 19.,\n",
              "       20., 21., 22., 23., 24., 25., 26., 27., 28., 29.])"
            ]
          },
          "metadata": {},
          "execution_count": 14
        }
      ]
    },
    {
      "cell_type": "code",
      "metadata": {
        "colab": {
          "base_uri": "https://localhost:8080/"
        },
        "id": "WtNOAw6Qe9SY",
        "outputId": "fde4dd4f-cb16-4942-9464-a7b9bd2f5535"
      },
      "source": [
        "prob=randint.cdf(x,low,high)\n",
        "prob"
      ],
      "execution_count": 15,
      "outputs": [
        {
          "output_type": "execute_result",
          "data": {
            "text/plain": [
              "array([0.04166667, 0.08333333, 0.125     , 0.16666667, 0.20833333,\n",
              "       0.25      , 0.29166667, 0.33333333, 0.375     , 0.41666667,\n",
              "       0.45833333, 0.5       , 0.54166667, 0.58333333, 0.625     ,\n",
              "       0.66666667, 0.70833333, 0.75      , 0.79166667, 0.83333333,\n",
              "       0.875     , 0.91666667, 0.95833333])"
            ]
          },
          "metadata": {},
          "execution_count": 15
        }
      ]
    },
    {
      "cell_type": "markdown",
      "metadata": {
        "id": "KCdu9yGxfLPL"
      },
      "source": [
        "#**Bernoulli Distribution**"
      ]
    },
    {
      "cell_type": "code",
      "metadata": {
        "colab": {
          "base_uri": "https://localhost:8080/",
          "height": 409
        },
        "id": "ftN7O5WvfFxX",
        "outputId": "92988686-7455-4ceb-ee02-a23aed76409a"
      },
      "source": [
        "from scipy.stats import bernoulli\n",
        "\n",
        "data_bern = bernoulli.rvs(size=10000 , p=0.6)\n",
        "ax = sns.distplot(data_bern,\n",
        "                 kde=False,\n",
        "                 color='skyblue',\n",
        "                 hist_kws={'linewidth':15, 'alpha' : 1})\n",
        "\n",
        "ax.set(xlabel='Bernoulli Distribution', ylabel='Frequency')"
      ],
      "execution_count": 16,
      "outputs": [
        {
          "output_type": "stream",
          "name": "stderr",
          "text": [
            "/usr/local/lib/python3.7/dist-packages/seaborn/distributions.py:2619: FutureWarning: `distplot` is a deprecated function and will be removed in a future version. Please adapt your code to use either `displot` (a figure-level function with similar flexibility) or `histplot` (an axes-level function for histograms).\n",
            "  warnings.warn(msg, FutureWarning)\n"
          ]
        },
        {
          "output_type": "execute_result",
          "data": {
            "text/plain": [
              "[Text(0, 0.5, 'Frequency'), Text(0.5, 0, 'Bernoulli Distribution')]"
            ]
          },
          "metadata": {},
          "execution_count": 16
        },
        {
          "output_type": "display_data",
          "data": {
            "image/png": "[encoded data removed]",
            "text/plain": [
              "<Figure size 360x360 with 1 Axes>"
            ]
          },
          "metadata": {}
        }
      ]
    },
    {
      "cell_type": "markdown",
      "metadata": {
        "id": "UPCoPNbsfUQE"
      },
      "source": [
        "#**Binomial Distribution**"
      ]
    },
    {
      "cell_type": "code",
      "metadata": {
        "colab": {
          "base_uri": "https://localhost:8080/",
          "height": 409
        },
        "id": "A37pzdrIfR7S",
        "outputId": "7e28bbc4-e1cf-42ac-dd30-cd860de5c905"
      },
      "source": [
        "from scipy.stats import binom\n",
        "\n",
        "data_binom = binom.rvs(n=10, p=0.8, size=10000)\n",
        "ax = sns.distplot(data_binom,\n",
        "                 kde=False,\n",
        "                 color='skyblue',\n",
        "                 hist_kws={'linewidth': 15, 'alpha':1})\n",
        "\n",
        "ax.set(xlabel='Binomial Distribution', ylabel='Frequency')"
      ],
      "execution_count": 17,
      "outputs": [
        {
          "output_type": "stream",
          "name": "stderr",
          "text": [
            "/usr/local/lib/python3.7/dist-packages/seaborn/distributions.py:2619: FutureWarning: `distplot` is a deprecated function and will be removed in a future version. Please adapt your code to use either `displot` (a figure-level function with similar flexibility) or `histplot` (an axes-level function for histograms).\n",
            "  warnings.warn(msg, FutureWarning)\n"
          ]
        },
        {
          "output_type": "execute_result",
          "data": {
            "text/plain": [
              "[Text(0, 0.5, 'Frequency'), Text(0.5, 0, 'Binomial Distribution')]"
            ]
          },
          "metadata": {},
          "execution_count": 17
        },
        {
          "output_type": "display_data",
          "data": {
            "image/png": "[encoded data removed]",
            "text/plain": [
              "<Figure size 360x360 with 1 Axes>"
            ]
          },
          "metadata": {}
        }
      ]
    },
    {
      "cell_type": "markdown",
      "metadata": {
        "id": "oOg-wWMHfck1"
      },
      "source": [
        "#**Poisson Distribution**"
      ]
    },
    {
      "cell_type": "code",
      "metadata": {
        "colab": {
          "base_uri": "https://localhost:8080/",
          "height": 409
        },
        "id": "9veD60oefR3S",
        "outputId": "ce3e259d-c356-49aa-b6f3-f3271fc17cf2"
      },
      "source": [
        "from scipy.stats import poisson\n",
        "\n",
        "data_poisson = poisson.rvs(mu=3, size=10000)\n",
        "ax = sns.distplot(data_poisson,\n",
        "                  bins=30,\n",
        "                 kde=False,\n",
        "                 color='skyblue',\n",
        "                 hist_kws={'linewidth': 15, 'alpha':1})\n",
        "\n",
        "ax.set(xlabel='Poisson Distribution', ylabel='Frequency')"
      ],
      "execution_count": 18,
      "outputs": [
        {
          "output_type": "stream",
          "name": "stderr",
          "text": [
            "/usr/local/lib/python3.7/dist-packages/seaborn/distributions.py:2619: FutureWarning: `distplot` is a deprecated function and will be removed in a future version. Please adapt your code to use either `displot` (a figure-level function with similar flexibility) or `histplot` (an axes-level function for histograms).\n",
            "  warnings.warn(msg, FutureWarning)\n"
          ]
        },
        {
          "output_type": "execute_result",
          "data": {
            "text/plain": [
              "[Text(0, 0.5, 'Frequency'), Text(0.5, 0, 'Poisson Distribution')]"
            ]
          },
          "metadata": {},
          "execution_count": 18
        },
        {
          "output_type": "display_data",
          "data": {
            "image/png": "[encoded data removed]",
            "text/plain": [
              "<Figure size 360x360 with 1 Axes>"
            ]
          },
          "metadata": {}
        }
      ]
    }
  ]
}